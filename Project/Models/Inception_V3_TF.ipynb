{
  "nbformat": 4,
  "nbformat_minor": 0,
  "metadata": {
    "colab": {
      "name": "Inception_V3_TF.ipynb",
      "version": "0.3.2",
      "provenance": [],
      "collapsed_sections": []
    },
    "kernelspec": {
      "name": "python3",
      "display_name": "Python 3"
    },
    "accelerator": "GPU"
  },
  "cells": [
    {
      "metadata": {
        "id": "Ke4g6-1yvShC",
        "colab_type": "text"
      },
      "cell_type": "markdown",
      "source": [
        "**IMPORTING LIBRARIES**"
      ]
    },
    {
      "metadata": {
        "id": "dzJNy8IWvOUs",
        "colab_type": "code",
        "colab": {}
      },
      "cell_type": "code",
      "source": [
        "import numpy as np # linear algebra\n",
        "import pandas as pd"
      ],
      "execution_count": 0,
      "outputs": []
    },
    {
      "metadata": {
        "id": "Hz4FO-A0uO7U",
        "colab_type": "code",
        "colab": {}
      },
      "cell_type": "code",
      "source": [
        "import os\n",
        "import matplotlib.pyplot as plt\n",
        "import numpy as np\n",
        "import PIL\n",
        "import tensorflow as tf"
      ],
      "execution_count": 0,
      "outputs": []
    },
    {
      "metadata": {
        "id": "4XRmF4s-uRf5",
        "colab_type": "code",
        "colab": {}
      },
      "cell_type": "code",
      "source": [
        "from tensorflow.python.keras.applications import ResNet50\n",
        "from tensorflow.python.keras.models import Sequential\n",
        "from tensorflow.python.keras.layers import Dense, Flatten, GlobalAveragePooling2D\n",
        "from tensorflow.python.keras.layers import Dense, Flatten, Dropout\n"
      ],
      "execution_count": 0,
      "outputs": []
    },
    {
      "metadata": {
        "id": "k93b-_FbuToU",
        "colab_type": "code",
        "colab": {}
      },
      "cell_type": "code",
      "source": [
        "from tensorflow.python.keras.models import Model, Sequential\n",
        "from tensorflow.python.keras.layers import Dense, Flatten, Dropout\n",
        "from tensorflow.python.keras.applications import VGG16\n",
        "from tensorflow.python.keras.applications.vgg16 import preprocess_input, decode_predictions\n",
        "from tensorflow.python.keras.optimizers import Adam, RMSprop\n",
        "\n"
      ],
      "execution_count": 0,
      "outputs": []
    },
    {
      "metadata": {
        "id": "LNmWXrY0kbnD",
        "colab_type": "code",
        "colab": {}
      },
      "cell_type": "code",
      "source": [
        "from tensorflow.python.keras.optimizers import Adam, RMSprop\n"
      ],
      "execution_count": 0,
      "outputs": []
    },
    {
      "metadata": {
        "id": "L52ZGpOIvYzU",
        "colab_type": "text"
      },
      "cell_type": "markdown",
      "source": [
        "**IMPORTING DATASET**"
      ]
    },
    {
      "metadata": {
        "id": "9OYPExPVuVPn",
        "colab_type": "code",
        "outputId": "ffe99fb1-dc97-43c7-d3f5-907fe81d0dea",
        "colab": {
          "base_uri": "https://localhost:8080/",
          "height": 33
        }
      },
      "cell_type": "code",
      "source": [
        "from zipfile import ZipFile\n",
        "file_name  = \"10-monkey-species.zip\"\n",
        "\n",
        "with ZipFile(file_name,\"r\") as zip:\n",
        "  zip.extractall()\n",
        "  print('Done')"
      ],
      "execution_count": 12,
      "outputs": [
        {
          "output_type": "stream",
          "text": [
            "Done\n"
          ],
          "name": "stdout"
        }
      ]
    },
    {
      "metadata": {
        "id": "9-6MZ3kevfuM",
        "colab_type": "text"
      },
      "cell_type": "markdown",
      "source": [
        "**Training and Validation files uploaded**"
      ]
    },
    {
      "metadata": {
        "id": "cb83L9bfvmAh",
        "colab_type": "text"
      },
      "cell_type": "markdown",
      "source": [
        "**Defining PATH**"
      ]
    },
    {
      "metadata": {
        "id": "cVG6R33jqNsh",
        "colab_type": "code",
        "outputId": "9dd47df9-931f-48ab-a8db-b7378621b241",
        "colab": {
          "base_uri": "https://localhost:8080/",
          "height": 33
        }
      },
      "cell_type": "code",
      "source": [
        "from zipfile import ZipFile\n",
        "file_name  = \"training.zip\"\n",
        "\n",
        "with ZipFile(file_name,\"r\") as zip:\n",
        "  zip.extractall()\n",
        "  print('Done')"
      ],
      "execution_count": 13,
      "outputs": [
        {
          "output_type": "stream",
          "text": [
            "Done\n"
          ],
          "name": "stdout"
        }
      ]
    },
    {
      "metadata": {
        "id": "3rhwCikmqN8G",
        "colab_type": "code",
        "outputId": "db2e41aa-651b-4353-8f84-11b4598c9e0f",
        "colab": {
          "base_uri": "https://localhost:8080/",
          "height": 33
        }
      },
      "cell_type": "code",
      "source": [
        "from zipfile import ZipFile\n",
        "file_name  = \"validation.zip\"\n",
        "\n",
        "with ZipFile(file_name,\"r\") as zip:\n",
        "  zip.extractall()\n",
        "  print('Done')"
      ],
      "execution_count": 14,
      "outputs": [
        {
          "output_type": "stream",
          "text": [
            "Done\n"
          ],
          "name": "stdout"
        }
      ]
    },
    {
      "metadata": {
        "id": "gD0ZWe07uX1p",
        "colab_type": "code",
        "colab": {}
      },
      "cell_type": "code",
      "source": [
        "train_dir =  'training'\n",
        "val_dir  =  'validation'"
      ],
      "execution_count": 0,
      "outputs": []
    },
    {
      "metadata": {
        "id": "Xmj9O4AhueNG",
        "colab_type": "code",
        "outputId": "2fb0262a-a24a-43df-fc6d-8c7629b6df3c",
        "colab": {
          "base_uri": "https://localhost:8080/",
          "height": 335
        }
      },
      "cell_type": "code",
      "source": [
        "labels = pd.read_csv(\"monkey_labels.txt\")\n",
        "num_classes = labels['Label'].size\n",
        "labels"
      ],
      "execution_count": 16,
      "outputs": [
        {
          "output_type": "execute_result",
          "data": {
            "text/html": [
              "<div>\n",
              "<style scoped>\n",
              "    .dataframe tbody tr th:only-of-type {\n",
              "        vertical-align: middle;\n",
              "    }\n",
              "\n",
              "    .dataframe tbody tr th {\n",
              "        vertical-align: top;\n",
              "    }\n",
              "\n",
              "    .dataframe thead th {\n",
              "        text-align: right;\n",
              "    }\n",
              "</style>\n",
              "<table border=\"1\" class=\"dataframe\">\n",
              "  <thead>\n",
              "    <tr style=\"text-align: right;\">\n",
              "      <th></th>\n",
              "      <th>Label</th>\n",
              "      <th>Latin Name</th>\n",
              "      <th>Common Name</th>\n",
              "      <th>Train Images</th>\n",
              "      <th>Validation Images</th>\n",
              "    </tr>\n",
              "  </thead>\n",
              "  <tbody>\n",
              "    <tr>\n",
              "      <th>0</th>\n",
              "      <td>n0</td>\n",
              "      <td>alouatta_palliata\\t</td>\n",
              "      <td>mantled_howler</td>\n",
              "      <td>131</td>\n",
              "      <td>26</td>\n",
              "    </tr>\n",
              "    <tr>\n",
              "      <th>1</th>\n",
              "      <td>n1</td>\n",
              "      <td>erythrocebus_patas\\t</td>\n",
              "      <td>patas_monkey</td>\n",
              "      <td>139</td>\n",
              "      <td>28</td>\n",
              "    </tr>\n",
              "    <tr>\n",
              "      <th>2</th>\n",
              "      <td>n2</td>\n",
              "      <td>cacajao_calvus\\t</td>\n",
              "      <td>bald_uakari</td>\n",
              "      <td>137</td>\n",
              "      <td>27</td>\n",
              "    </tr>\n",
              "    <tr>\n",
              "      <th>3</th>\n",
              "      <td>n3</td>\n",
              "      <td>macaca_fuscata\\t</td>\n",
              "      <td>japanese_macaque</td>\n",
              "      <td>152</td>\n",
              "      <td>30</td>\n",
              "    </tr>\n",
              "    <tr>\n",
              "      <th>4</th>\n",
              "      <td>n4</td>\n",
              "      <td>cebuella_pygmea\\t</td>\n",
              "      <td>pygmy_marmoset</td>\n",
              "      <td>131</td>\n",
              "      <td>26</td>\n",
              "    </tr>\n",
              "    <tr>\n",
              "      <th>5</th>\n",
              "      <td>n5</td>\n",
              "      <td>cebus_capucinus\\t</td>\n",
              "      <td>white_headed_capuchin</td>\n",
              "      <td>141</td>\n",
              "      <td>28</td>\n",
              "    </tr>\n",
              "    <tr>\n",
              "      <th>6</th>\n",
              "      <td>n6</td>\n",
              "      <td>mico_argentatus\\t</td>\n",
              "      <td>silvery_marmoset</td>\n",
              "      <td>132</td>\n",
              "      <td>26</td>\n",
              "    </tr>\n",
              "    <tr>\n",
              "      <th>7</th>\n",
              "      <td>n7</td>\n",
              "      <td>saimiri_sciureus\\t</td>\n",
              "      <td>common_squirrel_monkey</td>\n",
              "      <td>142</td>\n",
              "      <td>28</td>\n",
              "    </tr>\n",
              "    <tr>\n",
              "      <th>8</th>\n",
              "      <td>n8</td>\n",
              "      <td>aotus_nigriceps\\t</td>\n",
              "      <td>black_headed_night_monkey</td>\n",
              "      <td>133</td>\n",
              "      <td>27</td>\n",
              "    </tr>\n",
              "    <tr>\n",
              "      <th>9</th>\n",
              "      <td>n9</td>\n",
              "      <td>trachypithecus_johnii</td>\n",
              "      <td>nilgiri_langur</td>\n",
              "      <td>132</td>\n",
              "      <td>26</td>\n",
              "    </tr>\n",
              "  </tbody>\n",
              "</table>\n",
              "</div>"
            ],
            "text/plain": [
              "   Label     Latin Name              Common Name                     \\\n",
              "0  n0         alouatta_palliata\\t    mantled_howler                   \n",
              "1  n1        erythrocebus_patas\\t    patas_monkey                     \n",
              "2  n2        cacajao_calvus\\t        bald_uakari                      \n",
              "3  n3        macaca_fuscata\\t        japanese_macaque                 \n",
              "4  n4       cebuella_pygmea\\t        pygmy_marmoset                   \n",
              "5  n5       cebus_capucinus\\t        white_headed_capuchin            \n",
              "6  n6       mico_argentatus\\t        silvery_marmoset                 \n",
              "7  n7      saimiri_sciureus\\t        common_squirrel_monkey           \n",
              "8  n8       aotus_nigriceps\\t        black_headed_night_monkey        \n",
              "9  n9       trachypithecus_johnii    nilgiri_langur                   \n",
              "\n",
              "    Train Images    Validation Images  \n",
              "0             131                  26  \n",
              "1             139                  28  \n",
              "2             137                  27  \n",
              "3             152                  30  \n",
              "4             131                  26  \n",
              "5             141                  28  \n",
              "6             132                  26  \n",
              "7             142                  28  \n",
              "8             133                  27  \n",
              "9             132                  26  "
            ]
          },
          "metadata": {
            "tags": []
          },
          "execution_count": 16
        }
      ]
    },
    {
      "metadata": {
        "id": "P4ttZ-MxvBB8",
        "colab_type": "code",
        "colab": {}
      },
      "cell_type": "code",
      "source": [
        "# for display images in notebook\n",
        "from IPython.display import Image, display\n",
        "\n",
        "from os import listdir\n",
        "%matplotlib inline"
      ],
      "execution_count": 0,
      "outputs": []
    },
    {
      "metadata": {
        "id": "iuHKeIlQvF-j",
        "colab_type": "code",
        "colab": {}
      },
      "cell_type": "code",
      "source": [
        "IMAGE_WIDTH = 300\n",
        "IMAGE_HEIGHT = 300\n",
        "BATCH_SIZE = 24\n"
      ],
      "execution_count": 0,
      "outputs": []
    },
    {
      "metadata": {
        "id": "7nGJV3bKvHWX",
        "colab_type": "code",
        "colab": {}
      },
      "cell_type": "code",
      "source": [
        "from keras.preprocessing.image import ImageDataGenerator, array_to_img, img_to_array, load_img\n",
        "from keras.applications.inception_v3 import preprocess_input\n",
        "\n",
        "\n",
        "## use inception's own preprocess function\n",
        "train_data_gen_aug=ImageDataGenerator(\n",
        "                              preprocessing_function=preprocess_input,\n",
        "                              rotation_range=35,\n",
        "                              width_shift_range=0.2,\n",
        "                              height_shift_range=0.2,\n",
        "                              shear_range=0.2,\n",
        "                              horizontal_flip=True,\n",
        "                              fill_mode='nearest' #default\n",
        "                              \n",
        "                             )\n",
        "\n",
        "validation_data_gen=ImageDataGenerator(\n",
        "                                       preprocessing_function=preprocess_input\n",
        "                                      )"
      ],
      "execution_count": 0,
      "outputs": []
    },
    {
      "metadata": {
        "id": "wb9ZSf42vJab",
        "colab_type": "code",
        "outputId": "b84bdeb5-98ff-4bda-ff53-183836a6af84",
        "colab": {
          "base_uri": "https://localhost:8080/",
          "height": 50
        }
      },
      "cell_type": "code",
      "source": [
        "train_gen=train_data_gen_aug.flow_from_directory(train_dir,\n",
        "                                            target_size=(IMAGE_WIDTH,\n",
        "                                                       IMAGE_HEIGHT),\n",
        "                                            batch_size=BATCH_SIZE,\n",
        "                                            shuffle=True,\n",
        "                                            class_mode=\"categorical\")\n",
        "val_gen = validation_data_gen.flow_from_directory(val_dir, \n",
        "                                                    target_size=(IMAGE_WIDTH, IMAGE_HEIGHT), \n",
        "                                                    batch_size = BATCH_SIZE, \n",
        "                                                    \n",
        "                                                    class_mode=\"categorical\")"
      ],
      "execution_count": 20,
      "outputs": [
        {
          "output_type": "stream",
          "text": [
            "Found 1097 images belonging to 10 classes.\n",
            "Found 272 images belonging to 10 classes.\n"
          ],
          "name": "stdout"
        }
      ]
    },
    {
      "metadata": {
        "id": "1HKyrA_1iYyB",
        "colab_type": "code",
        "colab": {}
      },
      "cell_type": "code",
      "source": [
        "train_count=1097#train_size\n",
        "val_count=272#test_size"
      ],
      "execution_count": 0,
      "outputs": []
    },
    {
      "metadata": {
        "id": "MY7l-zP3ibrs",
        "colab_type": "text"
      },
      "cell_type": "markdown",
      "source": [
        "**IMPORTING INCEPTION V3 PRETRAINED WEIGHTS **"
      ]
    },
    {
      "metadata": {
        "id": "uFbUsCNiqgkK",
        "colab_type": "code",
        "colab": {}
      },
      "cell_type": "code",
      "source": [
        "from google.colab import files"
      ],
      "execution_count": 0,
      "outputs": []
    },
    {
      "metadata": {
        "id": "9l-MBeRTPz93",
        "colab_type": "code",
        "colab": {
          "resources": {
            "http://localhost:8080/nbextensions/google.colab/files.js": {
              "data": "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",
              "ok": true,
              "headers": [
                [
                  "content-type",
                  "application/javascript"
                ]
              ],
              "status": 200,
              "status_text": ""
            }
          },
          "base_uri": "https://localhost:8080/",
          "height": 70
        },
        "outputId": "3e3f035f-e4d2-4247-dbee-382a2fef92ff"
      },
      "cell_type": "code",
      "source": [
        "uploaded = files.upload()"
      ],
      "execution_count": 5,
      "outputs": [
        {
          "output_type": "display_data",
          "data": {
            "text/html": [
              "\n",
              "     <input type=\"file\" id=\"files-af1b17b8-3f0f-405a-bce7-fff9120ba5c4\" name=\"files[]\" multiple disabled />\n",
              "     <output id=\"result-af1b17b8-3f0f-405a-bce7-fff9120ba5c4\">\n",
              "      Upload widget is only available when the cell has been executed in the\n",
              "      current browser session. Please rerun this cell to enable.\n",
              "      </output>\n",
              "      <script src=\"/nbextensions/google.colab/files.js\"></script> "
            ],
            "text/plain": [
              "<IPython.core.display.HTML object>"
            ]
          },
          "metadata": {
            "tags": []
          }
        },
        {
          "output_type": "stream",
          "text": [
            "Saving inception_v3_weights_tf_dim_ordering_tf_kernels_notop.h5 to inception_v3_weights_tf_dim_ordering_tf_kernels_notop.h5\n"
          ],
          "name": "stdout"
        }
      ]
    },
    {
      "metadata": {
        "id": "JMeyIYYWipQX",
        "colab_type": "text"
      },
      "cell_type": "markdown",
      "source": [
        "**MODEL SETUP**"
      ]
    },
    {
      "metadata": {
        "id": "JnRGkvDeirvc",
        "colab_type": "code",
        "colab": {}
      },
      "cell_type": "code",
      "source": [
        "InceptionV3_model=InceptionV3(include_top=False, \n",
        "                      pooling='avg', \n",
        "                      weights='inception_v3_weights_tf_dim_ordering_tf_kernels_notop.h5'\n",
        "                     )"
      ],
      "execution_count": 0,
      "outputs": []
    },
    {
      "metadata": {
        "id": "e2yEARwbi65R",
        "colab_type": "text"
      },
      "cell_type": "markdown",
      "source": [
        "We can see that the last layer in the  convolutional layer is is GlobalAveragePooling2D\n",
        "\n",
        "We wiil be building our Transfer Learning model on top of this layer \n",
        "\n",
        "\n",
        "Adding 1 layer of FULLY ONNECTED LAYER with Drop-out and\n",
        "\n",
        "a classification layer with softmax with  10 output classses"
      ]
    },
    {
      "metadata": {
        "id": "C6wmOQBevUs3",
        "colab_type": "code",
        "colab": {}
      },
      "cell_type": "code",
      "source": [
        "from keras.applications import InceptionV3\n",
        "from keras.models import Sequential\n",
        "from keras.layers import Dense, GlobalAveragePooling2D, Dropout\n",
        "\n",
        "# set  up the model\n",
        "model=Sequential()\n",
        "# add inception pretrained model, the wieghts 80Mb\n",
        "model.add(InceptionV3(include_top=False, \n",
        "                      pooling='avg', \n",
        "                      weights='inception_v3_weights_tf_dim_ordering_tf_kernels_notop.h5'\n",
        "                     ))\n",
        "# use relu as activation function \"vanishing gradiends\" :)\n",
        "model.add(Dense(512, activation=\"relu\"))  \n",
        "# add drop out to avoid overfitting\n",
        "model.add(Dropout(0.5))#Dropping a neuron with 0.5 probability gets the highest variance for this distribution. \n",
        "model.add(Dense(num_classes, activation=\"softmax\"))"
      ],
      "execution_count": 0,
      "outputs": []
    },
    {
      "metadata": {
        "id": "lUwTrc9SjE77",
        "colab_type": "text"
      },
      "cell_type": "markdown",
      "source": [
        "Using dropout layer to minimize overfitting\n",
        "\n",
        "\n",
        "Dropout(0.5) --------Dropping a neuron with 0.5 probability gets the highest variance for this distribution"
      ]
    },
    {
      "metadata": {
        "id": "n773FxETjIKP",
        "colab_type": "text"
      },
      "cell_type": "markdown",
      "source": [
        "**FREEZING THE PRETRAINED LAYER**"
      ]
    },
    {
      "metadata": {
        "id": "9y5t9K6WvYuq",
        "colab_type": "code",
        "colab": {}
      },
      "cell_type": "code",
      "source": [
        "# do not need to train the pre train layer\n",
        "model.layers[0].trainable=False"
      ],
      "execution_count": 0,
      "outputs": []
    },
    {
      "metadata": {
        "id": "38PTD4rUjRim",
        "colab_type": "text"
      },
      "cell_type": "markdown",
      "source": [
        "****SUMMARY OF TENSORS FLOWING b/w  the VGG_16 Layers****"
      ]
    },
    {
      "metadata": {
        "id": "S9YQDWjwwEMJ",
        "colab_type": "code",
        "outputId": "4cead238-fa09-4db0-e96c-66aea253ea82",
        "colab": {
          "base_uri": "https://localhost:8080/",
          "height": 261
        }
      },
      "cell_type": "code",
      "source": [
        "model.summary()\n"
      ],
      "execution_count": 29,
      "outputs": [
        {
          "output_type": "stream",
          "text": [
            "_________________________________________________________________\n",
            "Layer (type)                 Output Shape              Param #   \n",
            "=================================================================\n",
            "inception_v3 (Model)         (None, 2048)              21802784  \n",
            "_________________________________________________________________\n",
            "dense_2 (Dense)              (None, 512)               1049088   \n",
            "_________________________________________________________________\n",
            "dropout_2 (Dropout)          (None, 512)               0         \n",
            "_________________________________________________________________\n",
            "dense_3 (Dense)              (None, 10)                5130      \n",
            "=================================================================\n",
            "Total params: 22,857,002\n",
            "Trainable params: 1,054,218\n",
            "Non-trainable params: 21,802,784\n",
            "_________________________________________________________________\n"
          ],
          "name": "stdout"
        }
      ]
    },
    {
      "metadata": {
        "id": "4mTB6hCyjcHa",
        "colab_type": "text"
      },
      "cell_type": "markdown",
      "source": [
        "****COMPILING MODEL****"
      ]
    },
    {
      "metadata": {
        "id": "E5PK3_O8wJIw",
        "colab_type": "code",
        "colab": {}
      },
      "cell_type": "code",
      "source": [
        "# from keras import optimizers\n",
        "# adam = optimizers.Adam(lr=0.0001, beta_1=0.9, beta_2=0.999, epsilon=1e-08, decay=0.00001)\n",
        "# use adam to avoid overfitting\n",
        "\n",
        "model.compile(loss=\"categorical_crossentropy\",\n",
        "              optimizer='adam',\n",
        "              metrics=[\"accuracy\"])"
      ],
      "execution_count": 0,
      "outputs": []
    },
    {
      "metadata": {
        "id": "BUJStynZjiu-",
        "colab_type": "text"
      },
      "cell_type": "markdown",
      "source": [
        "**TRAIN MODEL**"
      ]
    },
    {
      "metadata": {
        "id": "ltFj1Xi5wOBf",
        "colab_type": "code",
        "outputId": "e2f9d3f3-5485-4ef1-9fe8-543901a9a099",
        "colab": {
          "base_uri": "https://localhost:8080/",
          "height": 180
        }
      },
      "cell_type": "code",
      "source": [
        "model_history = model.fit_generator(train_gen,\n",
        "                                    steps_per_epoch=5,\n",
        "                                    epochs=5,\n",
        "                                    validation_data=val_gen,\n",
        "                                    validation_steps=val_count // BATCH_SIZE\n",
        "                                   )"
      ],
      "execution_count": 31,
      "outputs": [
        {
          "output_type": "stream",
          "text": [
            "Epoch 1/5\n",
            "5/5 [==============================] - 28s 6s/step - loss: 2.6339 - acc: 0.1750 - val_loss: 1.7890 - val_acc: 0.5530\n",
            "Epoch 2/5\n",
            "5/5 [==============================] - 13s 3s/step - loss: 2.2294 - acc: 0.2917 - val_loss: 1.3433 - val_acc: 0.7097\n",
            "Epoch 3/5\n",
            "5/5 [==============================] - 15s 3s/step - loss: 1.8078 - acc: 0.4333 - val_loss: 1.0429 - val_acc: 0.7742\n",
            "Epoch 4/5\n",
            "5/5 [==============================] - 12s 2s/step - loss: 1.3431 - acc: 0.5500 - val_loss: 0.8818 - val_acc: 0.7419\n",
            "Epoch 5/5\n",
            "5/5 [==============================] - 14s 3s/step - loss: 1.0519 - acc: 0.7083 - val_loss: 0.6634 - val_acc: 0.8548\n"
          ],
          "name": "stdout"
        }
      ]
    },
    {
      "metadata": {
        "id": "Nb2ZEfFHzjK0",
        "colab_type": "code",
        "colab": {
          "base_uri": "https://localhost:8080/",
          "height": 707
        },
        "outputId": "6164540f-98d5-4d55-828d-1e4e9357edb0"
      },
      "cell_type": "code",
      "source": [
        "acc = model_history.history['acc']\n",
        "val_acc = model_history.history['val_acc']\n",
        "loss = model_history.history['loss']\n",
        "val_loss = model_history.history['val_loss']\n",
        "epochs = range(1, len(acc) + 1)\n",
        "\n",
        "import matplotlib.pyplot as plt\n",
        "\n",
        "plt.title('Training and validation accuracy')\n",
        "plt.plot(epochs, acc, 'red', label='Training acc')\n",
        "plt.plot(epochs, val_acc, 'blue', label='Validation acc')\n",
        "plt.legend()\n",
        "\n",
        "plt.figure()\n",
        "plt.title('Training and validation loss')\n",
        "plt.plot(epochs, loss, 'red', label='Training loss')\n",
        "plt.plot(epochs, val_loss, 'blue', label='Validation loss')\n",
        "\n",
        "plt.legend()\n",
        "\n",
        "plt.show()"
      ],
      "execution_count": 32,
      "outputs": [
        {
          "output_type": "display_data",
          "data": {
            "image/png": "[encoded data removed]",
            "text/plain": [
              "<matplotlib.figure.Figure at 0x7f9f5ddabac8>"
            ]
          },
          "metadata": {
            "tags": []
          }
        },
        {
          "output_type": "display_data",
          "data": {
            "image/png": "[encoded data removed]",
            "text/plain": [
              "<matplotlib.figure.Figure at 0x7f9f6fa1da58>"
            ]
          },
          "metadata": {
            "tags": []
          }
        }
      ]
    },
    {
      "metadata": {
        "id": "XRoL-ooDkKsU",
        "colab_type": "text"
      },
      "cell_type": "markdown",
      "source": [
        "****DATA AUGMENTATION****"
      ]
    },
    {
      "metadata": {
        "id": "j07E_SZakOjX",
        "colab_type": "text"
      },
      "cell_type": "markdown",
      "source": [
        "**We have a small training-set so it helps to artificially inflate its size by making various transformations to the images. We use a built-in data-generator that can make these random transformations.**"
      ]
    },
    {
      "metadata": {
        "id": "iGLAXzPPkWzq",
        "colab_type": "text"
      },
      "cell_type": "markdown",
      "source": [
        "**** DATA GENERATOR FOR TRAIN****"
      ]
    },
    {
      "metadata": {
        "id": "qNdiXd3hkaTT",
        "colab_type": "code",
        "colab": {}
      },
      "cell_type": "code",
      "source": [
        "train_data_gen_aug=ImageDataGenerator(\n",
        "                              preprocessing_function=preprocess_input,\n",
        "                              rotation_range=180,\n",
        "                              width_shift_range=0.1,\n",
        "                              height_shift_range=0.1,\n",
        "                              shear_range=0.1,\n",
        "                              horizontal_flip=True,\n",
        "                              fill_mode='nearest'\n",
        "                              \n",
        "                             )"
      ],
      "execution_count": 0,
      "outputs": []
    },
    {
      "metadata": {
        "id": "2HBZad2JkdNx",
        "colab_type": "text"
      },
      "cell_type": "markdown",
      "source": [
        "****DATA GENERATOR FOR TEST with no Transformations**\n",
        "\n",
        "   No transformations should be performed on the test set since we to predict the exact classification accuarcy on these images\n",
        "    **"
      ]
    },
    {
      "metadata": {
        "id": "W2tPCbBZkaRs",
        "colab_type": "code",
        "colab": {}
      },
      "cell_type": "code",
      "source": [
        "validation_data_gen=ImageDataGenerator(\n",
        "                                       preprocessing_function=preprocess_input\n",
        "                                      )"
      ],
      "execution_count": 0,
      "outputs": []
    },
    {
      "metadata": {
        "id": "LB4VW9KQkaOR",
        "colab_type": "code",
        "colab": {
          "base_uri": "https://localhost:8080/",
          "height": 50
        },
        "outputId": "2e2a8642-7655-4bc2-f64a-c7c824055576"
      },
      "cell_type": "code",
      "source": [
        "train_gen_aug=train_data_gen_aug.flow_from_directory(train_dir,\n",
        "                                            target_size=(IMAGE_WIDTH,\n",
        "                                                       IMAGE_HEIGHT),\n",
        "                                            batch_size=BATCH_SIZE,\n",
        "                                            shuffle=True,\n",
        "                                            class_mode=\"categorical\")\n",
        "val_gen_aug = validation_data_gen.flow_from_directory(val_dir, \n",
        "                                                    target_size=(IMAGE_WIDTH, IMAGE_HEIGHT), \n",
        "                                                    batch_size = BATCH_SIZE, \n",
        "                                                    \n",
        "                                                    class_mode=\"categorical\")"
      ],
      "execution_count": 35,
      "outputs": [
        {
          "output_type": "stream",
          "text": [
            "Found 1097 images belonging to 10 classes.\n",
            "Found 272 images belonging to 10 classes.\n"
          ],
          "name": "stdout"
        }
      ]
    },
    {
      "metadata": {
        "id": "mzwJLflYkaL9",
        "colab_type": "code",
        "colab": {}
      },
      "cell_type": "code",
      "source": [
        "model_aug=Sequential()\n",
        "# add inception pretrained model, the wieghts 80Mb\n",
        "model_aug.add(InceptionV3(include_top=False, \n",
        "                      pooling='avg', \n",
        "                      weights='inception_v3_weights_tf_dim_ordering_tf_kernels_notop.h5'\n",
        "                     ))\n",
        "# use relu as activation function \"vanishing gradiends\" :)\n",
        "model_aug.add(Dense(512, activation=\"relu\"))  \n",
        "# add drop out to avoid overfitting\n",
        "model_aug.add(Dropout(0.5))\n",
        "model_aug.add(Dense(num_classes, activation=\"softmax\"))"
      ],
      "execution_count": 0,
      "outputs": []
    },
    {
      "metadata": {
        "id": "Je7-DZ21k3T5",
        "colab_type": "text"
      },
      "cell_type": "markdown",
      "source": [
        "****FREEZING Pretrained Layers****"
      ]
    },
    {
      "metadata": {
        "id": "8X_3OeDLkaHW",
        "colab_type": "code",
        "colab": {}
      },
      "cell_type": "code",
      "source": [
        "model_aug.layers[0].trainable=False\n"
      ],
      "execution_count": 0,
      "outputs": []
    },
    {
      "metadata": {
        "id": "5eptGUMSlGTw",
        "colab_type": "code",
        "colab": {
          "base_uri": "https://localhost:8080/",
          "height": 261
        },
        "outputId": "fdaaf76d-8ab8-40c5-9901-bf6a08b2541b"
      },
      "cell_type": "code",
      "source": [
        "model_aug.summary()\n"
      ],
      "execution_count": 40,
      "outputs": [
        {
          "output_type": "stream",
          "text": [
            "_________________________________________________________________\n",
            "Layer (type)                 Output Shape              Param #   \n",
            "=================================================================\n",
            "inception_v3 (Model)         (None, 2048)              21802784  \n",
            "_________________________________________________________________\n",
            "dense_4 (Dense)              (None, 512)               1049088   \n",
            "_________________________________________________________________\n",
            "dropout_3 (Dropout)          (None, 512)               0         \n",
            "_________________________________________________________________\n",
            "dense_5 (Dense)              (None, 10)                5130      \n",
            "=================================================================\n",
            "Total params: 22,857,002\n",
            "Trainable params: 1,054,218\n",
            "Non-trainable params: 21,802,784\n",
            "_________________________________________________________________\n"
          ],
          "name": "stdout"
        }
      ]
    },
    {
      "metadata": {
        "id": "8mPCo7iklJpg",
        "colab_type": "text"
      },
      "cell_type": "markdown",
      "source": [
        "**COMPILE MODEL**"
      ]
    },
    {
      "metadata": {
        "id": "MIX7ubNClI7P",
        "colab_type": "code",
        "colab": {}
      },
      "cell_type": "code",
      "source": [
        "model_aug.compile(loss=\"categorical_crossentropy\",\n",
        "              optimizer='adam',\n",
        "              metrics=[\"accuracy\"])"
      ],
      "execution_count": 0,
      "outputs": []
    },
    {
      "metadata": {
        "id": "dFBHj9L0lTRn",
        "colab_type": "text"
      },
      "cell_type": "markdown",
      "source": [
        "****TRANING MODEL****"
      ]
    },
    {
      "metadata": {
        "id": "qQDwV0URlWMi",
        "colab_type": "code",
        "colab": {
          "base_uri": "https://localhost:8080/",
          "height": 180
        },
        "outputId": "18ca0458-6982-4734-ef9b-94d79f7cd245"
      },
      "cell_type": "code",
      "source": [
        "model_aug_history = model_aug.fit_generator(train_gen_aug,\n",
        "                                    steps_per_epoch=5,\n",
        "                                    epochs=5,\n",
        "                                    validation_data=val_gen_aug,\n",
        "                                    validation_steps=val_count // BATCH_SIZE\n",
        "                                   )"
      ],
      "execution_count": 42,
      "outputs": [
        {
          "output_type": "stream",
          "text": [
            "Epoch 1/5\n",
            "5/5 [==============================] - 33s 7s/step - loss: 2.6860 - acc: 0.1250 - val_loss: 2.0541 - val_acc: 0.3030\n",
            "Epoch 2/5\n",
            "5/5 [==============================] - 13s 3s/step - loss: 2.6108 - acc: 0.0917 - val_loss: 1.6826 - val_acc: 0.5565\n",
            "Epoch 3/5\n",
            "5/5 [==============================] - 12s 2s/step - loss: 2.0808 - acc: 0.3083 - val_loss: 1.6794 - val_acc: 0.3266\n",
            "Epoch 4/5\n",
            "5/5 [==============================] - 13s 3s/step - loss: 2.0851 - acc: 0.2750 - val_loss: 1.2449 - val_acc: 0.8266\n",
            "Epoch 5/5\n",
            "5/5 [==============================] - 13s 3s/step - loss: 1.7822 - acc: 0.4333 - val_loss: 1.1111 - val_acc: 0.8790\n"
          ],
          "name": "stdout"
        }
      ]
    },
    {
      "metadata": {
        "id": "5PI2u9zwlZGh",
        "colab_type": "text"
      },
      "cell_type": "markdown",
      "source": [
        "****ACCURACY and LOSS****"
      ]
    },
    {
      "metadata": {
        "id": "pt5WHK324Nso",
        "colab_type": "code",
        "outputId": "3ecc30a3-a036-410e-d545-1bbfa55098a6",
        "colab": {
          "base_uri": "https://localhost:8080/",
          "height": 707
        }
      },
      "cell_type": "code",
      "source": [
        "acc =  model_aug_history.history['acc']\n",
        "val_acc = model_aug_history.history['val_acc']\n",
        "loss = model_aug_history.history['loss']\n",
        "val_loss = model_aug_history.history['val_loss']\n",
        "epochs = range(1, len(acc) + 1)\n",
        "\n",
        "import matplotlib.pyplot as plt\n",
        "\n",
        "plt.title('Training and validation accuracy')\n",
        "plt.plot(epochs, acc, 'red', label='Training acc')\n",
        "plt.plot(epochs, val_acc, 'blue', label='Validation acc')\n",
        "plt.legend()\n",
        "\n",
        "plt.figure()\n",
        "plt.title('Training and validation loss for Augmented model')\n",
        "plt.plot(epochs, loss, 'red', label='Training loss')\n",
        "plt.plot(epochs, val_loss, 'blue', label='Validation loss')\n",
        "\n",
        "plt.legend()\n",
        "\n",
        "plt.show()"
      ],
      "execution_count": 43,
      "outputs": [
        {
          "output_type": "display_data",
          "data": {
            "image/png": "[encoded data removed]",
            "text/plain": [
              "<matplotlib.figure.Figure at 0x7f9f4dc4ae80>"
            ]
          },
          "metadata": {
            "tags": []
          }
        },
        {
          "output_type": "display_data",
          "data": {
            "image/png": "[encoded data removed]",
            "text/plain": [
              "<matplotlib.figure.Figure at 0x7f9f4d9cc2b0>"
            ]
          },
          "metadata": {
            "tags": []
          }
        }
      ]
    },
    {
      "metadata": {
        "id": "HihJb5EmlfOb",
        "colab_type": "text"
      },
      "cell_type": "markdown",
      "source": [
        "****Removing Drop-out Layer****"
      ]
    },
    {
      "metadata": {
        "id": "varDiiCwl0vN",
        "colab_type": "text"
      },
      "cell_type": "markdown",
      "source": [
        "We will accessing performance  by removing the dropout layer  on the basis of validation accuracy"
      ]
    },
    {
      "metadata": {
        "id": "sPCaXTEelkwy",
        "colab_type": "text"
      },
      "cell_type": "markdown",
      "source": [
        "**We will accessing performance  by removing the dropout layer  on the basis of validation accuracy**"
      ]
    },
    {
      "metadata": {
        "id": "zaVuTyqc4td8",
        "colab_type": "code",
        "colab": {}
      },
      "cell_type": "code",
      "source": [
        "from keras.applications import InceptionV3\n",
        "from keras.models import Sequential\n",
        "from keras.layers import Dense, GlobalAveragePooling2D, Dropout\n",
        "\n",
        "# set  up the model\n",
        "model_NoDropOut=Sequential()\n",
        "# add inception pretrained model, the wieghts 80Mb\n",
        "model_NoDropOut.add(InceptionV3(include_top=False, \n",
        "                      pooling='avg', \n",
        "                      weights='inception_v3_weights_tf_dim_ordering_tf_kernels_notop.h5'\n",
        "                     ))\n",
        "# use relu as activation function \"vanishing gradiends\" :)\n",
        "model_NoDropOut.add(Dense(512, activation=\"relu\"))  \n",
        "# add drop out to avoid overfitting\n",
        "#model_NoDropOut.add(Dropout(0.5))\n",
        "model_NoDropOut.add(Dense(num_classes, activation=\"softmax\"))"
      ],
      "execution_count": 0,
      "outputs": []
    },
    {
      "metadata": {
        "id": "c0Wc0ySjl_7T",
        "colab_type": "text"
      },
      "cell_type": "markdown",
      "source": [
        "**FREEZING PRETRAINED LAYERS**"
      ]
    },
    {
      "metadata": {
        "id": "eQno4M1gmF4i",
        "colab_type": "code",
        "colab": {}
      },
      "cell_type": "code",
      "source": [
        "# do not need to train the pre train layer\n",
        "model_NoDropOut.layers[0].trainable=False"
      ],
      "execution_count": 0,
      "outputs": []
    },
    {
      "metadata": {
        "id": "uPMejRR98hS4",
        "colab_type": "code",
        "outputId": "c2dfbca3-5a15-446b-ab6a-dc81cd6a518b",
        "colab": {
          "base_uri": "https://localhost:8080/",
          "height": 228
        }
      },
      "cell_type": "code",
      "source": [
        "model_NoDropOut.summary()"
      ],
      "execution_count": 48,
      "outputs": [
        {
          "output_type": "stream",
          "text": [
            "_________________________________________________________________\n",
            "Layer (type)                 Output Shape              Param #   \n",
            "=================================================================\n",
            "inception_v3 (Model)         (None, 2048)              21802784  \n",
            "_________________________________________________________________\n",
            "dense_6 (Dense)              (None, 512)               1049088   \n",
            "_________________________________________________________________\n",
            "dense_7 (Dense)              (None, 10)                5130      \n",
            "=================================================================\n",
            "Total params: 22,857,002\n",
            "Trainable params: 1,054,218\n",
            "Non-trainable params: 21,802,784\n",
            "_________________________________________________________________\n"
          ],
          "name": "stdout"
        }
      ]
    },
    {
      "metadata": {
        "id": "QMVRlTWRmY7I",
        "colab_type": "text"
      },
      "cell_type": "markdown",
      "source": [
        "****COMPILE MODEL****"
      ]
    },
    {
      "metadata": {
        "id": "jmDf7-u98z5k",
        "colab_type": "code",
        "colab": {}
      },
      "cell_type": "code",
      "source": [
        "# from keras import optimizers\n",
        "# adam = optimizers.Adam(lr=0.0001, beta_1=0.9, beta_2=0.999, epsilon=1e-08, decay=0.00001)\n",
        "# use adam to avoid overfitting\n",
        "\n",
        "model_NoDropOut.compile(loss=\"categorical_crossentropy\",\n",
        "              optimizer='adam',\n",
        "              metrics=[\"accuracy\"])"
      ],
      "execution_count": 0,
      "outputs": []
    },
    {
      "metadata": {
        "id": "LRodtay0mfnb",
        "colab_type": "text"
      },
      "cell_type": "markdown",
      "source": [
        "**TRAIN MODEL**"
      ]
    },
    {
      "metadata": {
        "id": "EoLrWaaz81nt",
        "colab_type": "code",
        "outputId": "211278cb-8233-4e15-e8ec-613c8f79204c",
        "colab": {
          "base_uri": "https://localhost:8080/",
          "height": 180
        }
      },
      "cell_type": "code",
      "source": [
        "model_NoDropOut_history = model_NoDropOut.fit_generator(train_gen,\n",
        "                                    steps_per_epoch=5,\n",
        "                                    epochs=5,\n",
        "                                    validation_data=val_gen,\n",
        "                                    validation_steps=val_count // BATCH_SIZE\n",
        "                                   )"
      ],
      "execution_count": 50,
      "outputs": [
        {
          "output_type": "stream",
          "text": [
            "Epoch 1/5\n",
            "5/5 [==============================] - 36s 7s/step - loss: 2.5695 - acc: 0.1750 - val_loss: 2.1208 - val_acc: 0.3427\n",
            "Epoch 2/5\n",
            "5/5 [==============================] - 13s 3s/step - loss: 2.0638 - acc: 0.3203 - val_loss: 1.2495 - val_acc: 0.6492\n",
            "Epoch 3/5\n",
            "5/5 [==============================] - 12s 2s/step - loss: 1.4218 - acc: 0.5833 - val_loss: 1.0437 - val_acc: 0.7056\n",
            "Epoch 4/5\n",
            "5/5 [==============================] - 12s 2s/step - loss: 1.1424 - acc: 0.6750 - val_loss: 0.8482 - val_acc: 0.7258\n",
            "Epoch 5/5\n",
            "5/5 [==============================] - 11s 2s/step - loss: 0.8925 - acc: 0.7000 - val_loss: 0.5929 - val_acc: 0.8024\n"
          ],
          "name": "stdout"
        }
      ]
    },
    {
      "metadata": {
        "id": "48KZ_rCsFP0t",
        "colab_type": "text"
      },
      "cell_type": "markdown",
      "source": [
        "**ACCURACY FALLS**"
      ]
    },
    {
      "metadata": {
        "id": "P_gkRWuRFVOp",
        "colab_type": "code",
        "colab": {
          "base_uri": "https://localhost:8080/",
          "height": 707
        },
        "outputId": "330cbc02-91eb-4fc6-8b31-e590fc9db8ae"
      },
      "cell_type": "code",
      "source": [
        "acc = model_NoDropOut_history.history['acc']\n",
        "val_acc = model_NoDropOut_history.history['val_acc']\n",
        "loss = model_NoDropOut_history.history['loss']\n",
        "val_loss = model_NoDropOut_history.history['val_loss']\n",
        "epochs = range(1, len(acc) + 1)\n",
        "\n",
        "import matplotlib.pyplot as plt\n",
        "\n",
        "plt.title('Training and validation accuracy')\n",
        "plt.plot(epochs, acc, 'red', label='Training acc')\n",
        "plt.plot(epochs, val_acc, 'blue', label='Validation acc')\n",
        "plt.legend()\n",
        "\n",
        "plt.figure()\n",
        "plt.title('Training and validation loss')\n",
        "plt.plot(epochs, loss, 'red', label='Training loss')\n",
        "plt.plot(epochs, val_loss, 'blue', label='Validation loss')\n",
        "\n",
        "plt.legend()\n",
        "\n",
        "plt.show()"
      ],
      "execution_count": 51,
      "outputs": [
        {
          "output_type": "display_data",
          "data": {
            "image/png": "[encoded data removed]",
            "text/plain": [
              "<matplotlib.figure.Figure at 0x7f9f462fda58>"
            ]
          },
          "metadata": {
            "tags": []
          }
        },
        {
          "output_type": "display_data",
          "data": {
            "image/png": "[encoded data removed]",
            "text/plain": [
              "<matplotlib.figure.Figure at 0x7f9f42fc9a58>"
            ]
          },
          "metadata": {
            "tags": []
          }
        }
      ]
    },
    {
      "metadata": {
        "id": "XJBCLMp8Fckx",
        "colab_type": "text"
      },
      "cell_type": "markdown",
      "source": [
        "**Add 1 more Fully Connected Layer**"
      ]
    },
    {
      "metadata": {
        "id": "6pzDooM6Wvtr",
        "colab_type": "code",
        "colab": {}
      },
      "cell_type": "code",
      "source": [
        "from keras.applications import InceptionV3\n",
        "from keras.models import Sequential\n",
        "from keras.layers import Dense, GlobalAveragePooling2D, Dropout\n",
        "\n",
        "# set  up the model\n",
        "model_FC=Sequential()\n",
        "# add inception pretrained model, the wieghts 80Mb\n",
        "model_FC.add(InceptionV3(include_top=False, \n",
        "                      pooling='avg', \n",
        "                      weights='inception_v3_weights_tf_dim_ordering_tf_kernels_notop.h5'\n",
        "                     ))\n",
        "# use relu as activation function \"vanishing gradiends\" :)\n",
        "model_FC.add(Dense(512, activation=\"relu\"))  \n",
        "# add drop out to avoid overfitting\n",
        "model_FC.add(Dropout(0.5))#Dropping a neuron with 0.5 probability gets the highest variance for this distribution. \n",
        "model_FC.add(Dense(512, activation=\"relu\"))  \n",
        "# add drop out to avoid overfitting\n",
        "model_FC.add(Dropout(0.5))\n",
        "model_FC.add(Dense(num_classes, activation=\"softmax\"))"
      ],
      "execution_count": 0,
      "outputs": []
    },
    {
      "metadata": {
        "id": "TJEK2b8lnB0P",
        "colab_type": "text"
      },
      "cell_type": "markdown",
      "source": [
        "**FREEZING PRETRAINED LAYERS**"
      ]
    },
    {
      "metadata": {
        "id": "G2pr4gNAnLko",
        "colab_type": "code",
        "colab": {}
      },
      "cell_type": "code",
      "source": [
        "# do not need to train the pre train layer\n",
        "model_FC.layers[0].trainable=False"
      ],
      "execution_count": 0,
      "outputs": []
    },
    {
      "metadata": {
        "id": "tvGlRldWnPoR",
        "colab_type": "code",
        "colab": {
          "base_uri": "https://localhost:8080/",
          "height": 326
        },
        "outputId": "783b1227-433b-440b-d477-65d3086ead8a"
      },
      "cell_type": "code",
      "source": [
        "model_FC.summary()\n"
      ],
      "execution_count": 55,
      "outputs": [
        {
          "output_type": "stream",
          "text": [
            "_________________________________________________________________\n",
            "Layer (type)                 Output Shape              Param #   \n",
            "=================================================================\n",
            "inception_v3 (Model)         (None, 2048)              21802784  \n",
            "_________________________________________________________________\n",
            "dense_8 (Dense)              (None, 512)               1049088   \n",
            "_________________________________________________________________\n",
            "dropout_4 (Dropout)          (None, 512)               0         \n",
            "_________________________________________________________________\n",
            "dense_9 (Dense)              (None, 512)               262656    \n",
            "_________________________________________________________________\n",
            "dropout_5 (Dropout)          (None, 512)               0         \n",
            "_________________________________________________________________\n",
            "dense_10 (Dense)             (None, 10)                5130      \n",
            "=================================================================\n",
            "Total params: 23,119,658\n",
            "Trainable params: 1,316,874\n",
            "Non-trainable params: 21,802,784\n",
            "_________________________________________________________________\n"
          ],
          "name": "stdout"
        }
      ]
    },
    {
      "metadata": {
        "id": "uDiQdqmhVJSv",
        "colab_type": "code",
        "colab": {}
      },
      "cell_type": "code",
      "source": [
        "# from keras import optimizers\n",
        "# adam = optimizers.Adam(lr=0.0001, beta_1=0.9, beta_2=0.999, epsilon=1e-08, decay=0.00001)\n",
        "# use adam to avoid overfitting\n",
        "\n",
        "model_FC.compile(loss=\"categorical_crossentropy\",\n",
        "              optimizer='adam',\n",
        "              metrics=[\"accuracy\"])"
      ],
      "execution_count": 0,
      "outputs": []
    },
    {
      "metadata": {
        "id": "CYhsgdaPVzT8",
        "colab_type": "code",
        "outputId": "ac57a29e-3463-4c71-f534-f54458d45338",
        "colab": {
          "base_uri": "https://localhost:8080/",
          "height": 180
        }
      },
      "cell_type": "code",
      "source": [
        "model_FC_history = model_FC.fit_generator(train_gen,\n",
        "                                    steps_per_epoch=5,\n",
        "                                    epochs=5,\n",
        "                                    validation_data=val_gen,\n",
        "                                    validation_steps=val_count // BATCH_SIZE\n",
        "                                   )"
      ],
      "execution_count": 59,
      "outputs": [
        {
          "output_type": "stream",
          "text": [
            "Epoch 1/5\n",
            "5/5 [==============================] - 13s 3s/step - loss: 1.8722 - acc: 0.3333 - val_loss: 1.2364 - val_acc: 0.8427\n",
            "Epoch 2/5\n",
            "5/5 [==============================] - 14s 3s/step - loss: 1.6861 - acc: 0.4500 - val_loss: 1.1604 - val_acc: 0.8295\n",
            "Epoch 3/5\n",
            "5/5 [==============================] - 14s 3s/step - loss: 1.5905 - acc: 0.5083 - val_loss: 0.9423 - val_acc: 0.8790\n",
            "Epoch 4/5\n",
            "5/5 [==============================] - 13s 3s/step - loss: 1.4230 - acc: 0.5000 - val_loss: 0.8076 - val_acc: 0.7903\n",
            "Epoch 5/5\n",
            "5/5 [==============================] - 14s 3s/step - loss: 1.1965 - acc: 0.6083 - val_loss: 0.7399 - val_acc: 0.8105\n"
          ],
          "name": "stdout"
        }
      ]
    },
    {
      "metadata": {
        "id": "nQqS37c6V22U",
        "colab_type": "code",
        "colab": {
          "base_uri": "https://localhost:8080/",
          "height": 707
        },
        "outputId": "b4e2c6f8-b3b1-49e8-f1b8-58a669f8bf99"
      },
      "cell_type": "code",
      "source": [
        "acc = model_FC_history.history['acc']\n",
        "val_acc = model_FC_history.history['val_acc']\n",
        "loss = model_FC_history.history['loss']\n",
        "val_loss = model_FC_history.history['val_loss']\n",
        "epochs = range(1, len(acc) + 1)\n",
        "\n",
        "import matplotlib.pyplot as plt\n",
        "\n",
        "plt.title('Training and validation accuracy')\n",
        "plt.plot(epochs, acc, 'red', label='Training acc')\n",
        "plt.plot(epochs, val_acc, 'blue', label='Validation acc')\n",
        "plt.legend()\n",
        "\n",
        "plt.figure()\n",
        "plt.title('Training and validation loss')\n",
        "plt.plot(epochs, loss, 'red', label='Training loss')\n",
        "plt.plot(epochs, val_loss, 'blue', label='Validation loss')\n",
        "\n",
        "plt.legend()\n",
        "\n",
        "plt.show()"
      ],
      "execution_count": 60,
      "outputs": [
        {
          "output_type": "display_data",
          "data": {
            "image/png": "[encoded data removed]",
            "text/plain": [
              "<matplotlib.figure.Figure at 0x7f9f385ace10>"
            ]
          },
          "metadata": {
            "tags": []
          }
        },
        {
          "output_type": "display_data",
          "data": {
            "image/png": "[encoded data removed]",
            "text/plain": [
              "<matplotlib.figure.Figure at 0x7f9f3840f3c8>"
            ]
          },
          "metadata": {
            "tags": []
          }
        }
      ]
    },
    {
      "metadata": {
        "id": "QqjU6PBUhUxb",
        "colab_type": "text"
      },
      "cell_type": "markdown",
      "source": [
        "**Varying Nodes in FC layers**"
      ]
    },
    {
      "metadata": {
        "id": "53AwapPWhYZ2",
        "colab_type": "code",
        "colab": {}
      },
      "cell_type": "code",
      "source": [
        "from keras.applications import InceptionV3\n",
        "from keras.models import Sequential\n",
        "from keras.layers import Dense, GlobalAveragePooling2D, Dropout\n",
        "\n",
        "# set  up the model\n",
        "model4=Sequential()\n",
        "# add inception pretrained model, the wieghts 80Mb\n",
        "model4.add(InceptionV3(include_top=False, \n",
        "                      pooling='avg', \n",
        "                      weights='inception_v3_weights_tf_dim_ordering_tf_kernels_notop.h5'\n",
        "                     ))\n",
        "# use relu as activation function \"vanishing gradiends\" :)\n",
        "model4.add(Dense(512, activation=\"relu\"))  \n",
        "# add drop out to avoid overfitting\n",
        "model4.add(Dropout(0.5))\n",
        "model4.add(Dense(256, activation=\"relu\"))  \n",
        "# add drop out to avoid overfitting\n",
        "model4.add(Dropout(0.5))#Dropping a neuron with 0.5 probability gets the highest variance for this distribution. \n",
        "model4.add(Dense(num_classes, activation=\"softmax\"))"
      ],
      "execution_count": 0,
      "outputs": []
    },
    {
      "metadata": {
        "id": "zJ4SmB2fiSbq",
        "colab_type": "code",
        "colab": {}
      },
      "cell_type": "code",
      "source": [
        "# do not need to train the pre train layer\n",
        "model4.layers[0].trainable=False"
      ],
      "execution_count": 0,
      "outputs": []
    },
    {
      "metadata": {
        "id": "6ev7FG2ziShv",
        "colab_type": "code",
        "outputId": "7b840ed0-9c83-4784-d915-3ff7303f4f9a",
        "colab": {
          "base_uri": "https://localhost:8080/",
          "height": 10840
        }
      },
      "cell_type": "code",
      "source": [
        "model4.layers[0].summary()\n"
      ],
      "execution_count": 63,
      "outputs": [
        {
          "output_type": "stream",
          "text": [
            "__________________________________________________________________________________________________\n",
            "Layer (type)                    Output Shape         Param #     Connected to                     \n",
            "==================================================================================================\n",
            "input_8 (InputLayer)            (None, None, None, 3 0                                            \n",
            "__________________________________________________________________________________________________\n",
            "conv2d_659 (Conv2D)             (None, None, None, 3 864         input_8[0][0]                    \n",
            "__________________________________________________________________________________________________\n",
            "batch_normalization_659 (BatchN (None, None, None, 3 96          conv2d_659[0][0]                 \n",
            "__________________________________________________________________________________________________\n",
            "activation_659 (Activation)     (None, None, None, 3 0           batch_normalization_659[0][0]    \n",
            "__________________________________________________________________________________________________\n",
            "conv2d_660 (Conv2D)             (None, None, None, 3 9216        activation_659[0][0]             \n",
            "__________________________________________________________________________________________________\n",
            "batch_normalization_660 (BatchN (None, None, None, 3 96          conv2d_660[0][0]                 \n",
            "__________________________________________________________________________________________________\n",
            "activation_660 (Activation)     (None, None, None, 3 0           batch_normalization_660[0][0]    \n",
            "__________________________________________________________________________________________________\n",
            "conv2d_661 (Conv2D)             (None, None, None, 6 18432       activation_660[0][0]             \n",
            "__________________________________________________________________________________________________\n",
            "batch_normalization_661 (BatchN (None, None, None, 6 192         conv2d_661[0][0]                 \n",
            "__________________________________________________________________________________________________\n",
            "activation_661 (Activation)     (None, None, None, 6 0           batch_normalization_661[0][0]    \n",
            "__________________________________________________________________________________________________\n",
            "max_pooling2d_29 (MaxPooling2D) (None, None, None, 6 0           activation_661[0][0]             \n",
            "__________________________________________________________________________________________________\n",
            "conv2d_662 (Conv2D)             (None, None, None, 8 5120        max_pooling2d_29[0][0]           \n",
            "__________________________________________________________________________________________________\n",
            "batch_normalization_662 (BatchN (None, None, None, 8 240         conv2d_662[0][0]                 \n",
            "__________________________________________________________________________________________________\n",
            "activation_662 (Activation)     (None, None, None, 8 0           batch_normalization_662[0][0]    \n",
            "__________________________________________________________________________________________________\n",
            "conv2d_663 (Conv2D)             (None, None, None, 1 138240      activation_662[0][0]             \n",
            "__________________________________________________________________________________________________\n",
            "batch_normalization_663 (BatchN (None, None, None, 1 576         conv2d_663[0][0]                 \n",
            "__________________________________________________________________________________________________\n",
            "activation_663 (Activation)     (None, None, None, 1 0           batch_normalization_663[0][0]    \n",
            "__________________________________________________________________________________________________\n",
            "max_pooling2d_30 (MaxPooling2D) (None, None, None, 1 0           activation_663[0][0]             \n",
            "__________________________________________________________________________________________________\n",
            "conv2d_667 (Conv2D)             (None, None, None, 6 12288       max_pooling2d_30[0][0]           \n",
            "__________________________________________________________________________________________________\n",
            "batch_normalization_667 (BatchN (None, None, None, 6 192         conv2d_667[0][0]                 \n",
            "__________________________________________________________________________________________________\n",
            "activation_667 (Activation)     (None, None, None, 6 0           batch_normalization_667[0][0]    \n",
            "__________________________________________________________________________________________________\n",
            "conv2d_665 (Conv2D)             (None, None, None, 4 9216        max_pooling2d_30[0][0]           \n",
            "__________________________________________________________________________________________________\n",
            "conv2d_668 (Conv2D)             (None, None, None, 9 55296       activation_667[0][0]             \n",
            "__________________________________________________________________________________________________\n",
            "batch_normalization_665 (BatchN (None, None, None, 4 144         conv2d_665[0][0]                 \n",
            "__________________________________________________________________________________________________\n",
            "batch_normalization_668 (BatchN (None, None, None, 9 288         conv2d_668[0][0]                 \n",
            "__________________________________________________________________________________________________\n",
            "activation_665 (Activation)     (None, None, None, 4 0           batch_normalization_665[0][0]    \n",
            "__________________________________________________________________________________________________\n",
            "activation_668 (Activation)     (None, None, None, 9 0           batch_normalization_668[0][0]    \n",
            "__________________________________________________________________________________________________\n",
            "average_pooling2d_64 (AveragePo (None, None, None, 1 0           max_pooling2d_30[0][0]           \n",
            "__________________________________________________________________________________________________\n",
            "conv2d_664 (Conv2D)             (None, None, None, 6 12288       max_pooling2d_30[0][0]           \n",
            "__________________________________________________________________________________________________\n",
            "conv2d_666 (Conv2D)             (None, None, None, 6 76800       activation_665[0][0]             \n",
            "__________________________________________________________________________________________________\n",
            "conv2d_669 (Conv2D)             (None, None, None, 9 82944       activation_668[0][0]             \n",
            "__________________________________________________________________________________________________\n",
            "conv2d_670 (Conv2D)             (None, None, None, 3 6144        average_pooling2d_64[0][0]       \n",
            "__________________________________________________________________________________________________\n",
            "batch_normalization_664 (BatchN (None, None, None, 6 192         conv2d_664[0][0]                 \n",
            "__________________________________________________________________________________________________\n",
            "batch_normalization_666 (BatchN (None, None, None, 6 192         conv2d_666[0][0]                 \n",
            "__________________________________________________________________________________________________\n",
            "batch_normalization_669 (BatchN (None, None, None, 9 288         conv2d_669[0][0]                 \n",
            "__________________________________________________________________________________________________\n",
            "batch_normalization_670 (BatchN (None, None, None, 3 96          conv2d_670[0][0]                 \n",
            "__________________________________________________________________________________________________\n",
            "activation_664 (Activation)     (None, None, None, 6 0           batch_normalization_664[0][0]    \n",
            "__________________________________________________________________________________________________\n",
            "activation_666 (Activation)     (None, None, None, 6 0           batch_normalization_666[0][0]    \n",
            "__________________________________________________________________________________________________\n",
            "activation_669 (Activation)     (None, None, None, 9 0           batch_normalization_669[0][0]    \n",
            "__________________________________________________________________________________________________\n",
            "activation_670 (Activation)     (None, None, None, 3 0           batch_normalization_670[0][0]    \n",
            "__________________________________________________________________________________________________\n",
            "mixed0 (Concatenate)            (None, None, None, 2 0           activation_664[0][0]             \n",
            "                                                                 activation_666[0][0]             \n",
            "                                                                 activation_669[0][0]             \n",
            "                                                                 activation_670[0][0]             \n",
            "__________________________________________________________________________________________________\n",
            "conv2d_674 (Conv2D)             (None, None, None, 6 16384       mixed0[0][0]                     \n",
            "__________________________________________________________________________________________________\n",
            "batch_normalization_674 (BatchN (None, None, None, 6 192         conv2d_674[0][0]                 \n",
            "__________________________________________________________________________________________________\n",
            "activation_674 (Activation)     (None, None, None, 6 0           batch_normalization_674[0][0]    \n",
            "__________________________________________________________________________________________________\n",
            "conv2d_672 (Conv2D)             (None, None, None, 4 12288       mixed0[0][0]                     \n",
            "__________________________________________________________________________________________________\n",
            "conv2d_675 (Conv2D)             (None, None, None, 9 55296       activation_674[0][0]             \n",
            "__________________________________________________________________________________________________\n",
            "batch_normalization_672 (BatchN (None, None, None, 4 144         conv2d_672[0][0]                 \n",
            "__________________________________________________________________________________________________\n",
            "batch_normalization_675 (BatchN (None, None, None, 9 288         conv2d_675[0][0]                 \n",
            "__________________________________________________________________________________________________\n",
            "activation_672 (Activation)     (None, None, None, 4 0           batch_normalization_672[0][0]    \n",
            "__________________________________________________________________________________________________\n",
            "activation_675 (Activation)     (None, None, None, 9 0           batch_normalization_675[0][0]    \n",
            "__________________________________________________________________________________________________\n",
            "average_pooling2d_65 (AveragePo (None, None, None, 2 0           mixed0[0][0]                     \n",
            "__________________________________________________________________________________________________\n",
            "conv2d_671 (Conv2D)             (None, None, None, 6 16384       mixed0[0][0]                     \n",
            "__________________________________________________________________________________________________\n",
            "conv2d_673 (Conv2D)             (None, None, None, 6 76800       activation_672[0][0]             \n",
            "__________________________________________________________________________________________________\n",
            "conv2d_676 (Conv2D)             (None, None, None, 9 82944       activation_675[0][0]             \n",
            "__________________________________________________________________________________________________\n",
            "conv2d_677 (Conv2D)             (None, None, None, 6 16384       average_pooling2d_65[0][0]       \n",
            "__________________________________________________________________________________________________\n",
            "batch_normalization_671 (BatchN (None, None, None, 6 192         conv2d_671[0][0]                 \n",
            "__________________________________________________________________________________________________\n",
            "batch_normalization_673 (BatchN (None, None, None, 6 192         conv2d_673[0][0]                 \n",
            "__________________________________________________________________________________________________\n",
            "batch_normalization_676 (BatchN (None, None, None, 9 288         conv2d_676[0][0]                 \n",
            "__________________________________________________________________________________________________\n",
            "batch_normalization_677 (BatchN (None, None, None, 6 192         conv2d_677[0][0]                 \n",
            "__________________________________________________________________________________________________\n",
            "activation_671 (Activation)     (None, None, None, 6 0           batch_normalization_671[0][0]    \n",
            "__________________________________________________________________________________________________\n",
            "activation_673 (Activation)     (None, None, None, 6 0           batch_normalization_673[0][0]    \n",
            "__________________________________________________________________________________________________\n",
            "activation_676 (Activation)     (None, None, None, 9 0           batch_normalization_676[0][0]    \n",
            "__________________________________________________________________________________________________\n",
            "activation_677 (Activation)     (None, None, None, 6 0           batch_normalization_677[0][0]    \n",
            "__________________________________________________________________________________________________\n",
            "mixed1 (Concatenate)            (None, None, None, 2 0           activation_671[0][0]             \n",
            "                                                                 activation_673[0][0]             \n",
            "                                                                 activation_676[0][0]             \n",
            "                                                                 activation_677[0][0]             \n",
            "__________________________________________________________________________________________________\n",
            "conv2d_681 (Conv2D)             (None, None, None, 6 18432       mixed1[0][0]                     \n",
            "__________________________________________________________________________________________________\n",
            "batch_normalization_681 (BatchN (None, None, None, 6 192         conv2d_681[0][0]                 \n",
            "__________________________________________________________________________________________________\n",
            "activation_681 (Activation)     (None, None, None, 6 0           batch_normalization_681[0][0]    \n",
            "__________________________________________________________________________________________________\n",
            "conv2d_679 (Conv2D)             (None, None, None, 4 13824       mixed1[0][0]                     \n",
            "__________________________________________________________________________________________________\n",
            "conv2d_682 (Conv2D)             (None, None, None, 9 55296       activation_681[0][0]             \n",
            "__________________________________________________________________________________________________\n",
            "batch_normalization_679 (BatchN (None, None, None, 4 144         conv2d_679[0][0]                 \n",
            "__________________________________________________________________________________________________\n",
            "batch_normalization_682 (BatchN (None, None, None, 9 288         conv2d_682[0][0]                 \n",
            "__________________________________________________________________________________________________\n",
            "activation_679 (Activation)     (None, None, None, 4 0           batch_normalization_679[0][0]    \n",
            "__________________________________________________________________________________________________\n",
            "activation_682 (Activation)     (None, None, None, 9 0           batch_normalization_682[0][0]    \n",
            "__________________________________________________________________________________________________\n",
            "average_pooling2d_66 (AveragePo (None, None, None, 2 0           mixed1[0][0]                     \n",
            "__________________________________________________________________________________________________\n",
            "conv2d_678 (Conv2D)             (None, None, None, 6 18432       mixed1[0][0]                     \n",
            "__________________________________________________________________________________________________\n",
            "conv2d_680 (Conv2D)             (None, None, None, 6 76800       activation_679[0][0]             \n",
            "__________________________________________________________________________________________________\n",
            "conv2d_683 (Conv2D)             (None, None, None, 9 82944       activation_682[0][0]             \n",
            "__________________________________________________________________________________________________\n",
            "conv2d_684 (Conv2D)             (None, None, None, 6 18432       average_pooling2d_66[0][0]       \n",
            "__________________________________________________________________________________________________\n",
            "batch_normalization_678 (BatchN (None, None, None, 6 192         conv2d_678[0][0]                 \n",
            "__________________________________________________________________________________________________\n",
            "batch_normalization_680 (BatchN (None, None, None, 6 192         conv2d_680[0][0]                 \n",
            "__________________________________________________________________________________________________\n",
            "batch_normalization_683 (BatchN (None, None, None, 9 288         conv2d_683[0][0]                 \n",
            "__________________________________________________________________________________________________\n",
            "batch_normalization_684 (BatchN (None, None, None, 6 192         conv2d_684[0][0]                 \n",
            "__________________________________________________________________________________________________\n",
            "activation_678 (Activation)     (None, None, None, 6 0           batch_normalization_678[0][0]    \n",
            "__________________________________________________________________________________________________\n",
            "activation_680 (Activation)     (None, None, None, 6 0           batch_normalization_680[0][0]    \n",
            "__________________________________________________________________________________________________\n",
            "activation_683 (Activation)     (None, None, None, 9 0           batch_normalization_683[0][0]    \n",
            "__________________________________________________________________________________________________\n",
            "activation_684 (Activation)     (None, None, None, 6 0           batch_normalization_684[0][0]    \n",
            "__________________________________________________________________________________________________\n",
            "mixed2 (Concatenate)            (None, None, None, 2 0           activation_678[0][0]             \n",
            "                                                                 activation_680[0][0]             \n",
            "                                                                 activation_683[0][0]             \n",
            "                                                                 activation_684[0][0]             \n",
            "__________________________________________________________________________________________________\n",
            "conv2d_686 (Conv2D)             (None, None, None, 6 18432       mixed2[0][0]                     \n",
            "__________________________________________________________________________________________________\n",
            "batch_normalization_686 (BatchN (None, None, None, 6 192         conv2d_686[0][0]                 \n",
            "__________________________________________________________________________________________________\n",
            "activation_686 (Activation)     (None, None, None, 6 0           batch_normalization_686[0][0]    \n",
            "__________________________________________________________________________________________________\n",
            "conv2d_687 (Conv2D)             (None, None, None, 9 55296       activation_686[0][0]             \n",
            "__________________________________________________________________________________________________\n",
            "batch_normalization_687 (BatchN (None, None, None, 9 288         conv2d_687[0][0]                 \n",
            "__________________________________________________________________________________________________\n",
            "activation_687 (Activation)     (None, None, None, 9 0           batch_normalization_687[0][0]    \n",
            "__________________________________________________________________________________________________\n",
            "conv2d_685 (Conv2D)             (None, None, None, 3 995328      mixed2[0][0]                     \n",
            "__________________________________________________________________________________________________\n",
            "conv2d_688 (Conv2D)             (None, None, None, 9 82944       activation_687[0][0]             \n",
            "__________________________________________________________________________________________________\n",
            "batch_normalization_685 (BatchN (None, None, None, 3 1152        conv2d_685[0][0]                 \n",
            "__________________________________________________________________________________________________\n",
            "batch_normalization_688 (BatchN (None, None, None, 9 288         conv2d_688[0][0]                 \n",
            "__________________________________________________________________________________________________\n",
            "activation_685 (Activation)     (None, None, None, 3 0           batch_normalization_685[0][0]    \n",
            "__________________________________________________________________________________________________\n",
            "activation_688 (Activation)     (None, None, None, 9 0           batch_normalization_688[0][0]    \n",
            "__________________________________________________________________________________________________\n",
            "max_pooling2d_31 (MaxPooling2D) (None, None, None, 2 0           mixed2[0][0]                     \n",
            "__________________________________________________________________________________________________\n",
            "mixed3 (Concatenate)            (None, None, None, 7 0           activation_685[0][0]             \n",
            "                                                                 activation_688[0][0]             \n",
            "                                                                 max_pooling2d_31[0][0]           \n",
            "__________________________________________________________________________________________________\n",
            "conv2d_693 (Conv2D)             (None, None, None, 1 98304       mixed3[0][0]                     \n",
            "__________________________________________________________________________________________________\n",
            "batch_normalization_693 (BatchN (None, None, None, 1 384         conv2d_693[0][0]                 \n",
            "__________________________________________________________________________________________________\n",
            "activation_693 (Activation)     (None, None, None, 1 0           batch_normalization_693[0][0]    \n",
            "__________________________________________________________________________________________________\n",
            "conv2d_694 (Conv2D)             (None, None, None, 1 114688      activation_693[0][0]             \n",
            "__________________________________________________________________________________________________\n",
            "batch_normalization_694 (BatchN (None, None, None, 1 384         conv2d_694[0][0]                 \n",
            "__________________________________________________________________________________________________\n",
            "activation_694 (Activation)     (None, None, None, 1 0           batch_normalization_694[0][0]    \n",
            "__________________________________________________________________________________________________\n",
            "conv2d_690 (Conv2D)             (None, None, None, 1 98304       mixed3[0][0]                     \n",
            "__________________________________________________________________________________________________\n",
            "conv2d_695 (Conv2D)             (None, None, None, 1 114688      activation_694[0][0]             \n",
            "__________________________________________________________________________________________________\n",
            "batch_normalization_690 (BatchN (None, None, None, 1 384         conv2d_690[0][0]                 \n",
            "__________________________________________________________________________________________________\n",
            "batch_normalization_695 (BatchN (None, None, None, 1 384         conv2d_695[0][0]                 \n",
            "__________________________________________________________________________________________________\n",
            "activation_690 (Activation)     (None, None, None, 1 0           batch_normalization_690[0][0]    \n",
            "__________________________________________________________________________________________________\n",
            "activation_695 (Activation)     (None, None, None, 1 0           batch_normalization_695[0][0]    \n",
            "__________________________________________________________________________________________________\n",
            "conv2d_691 (Conv2D)             (None, None, None, 1 114688      activation_690[0][0]             \n",
            "__________________________________________________________________________________________________\n",
            "conv2d_696 (Conv2D)             (None, None, None, 1 114688      activation_695[0][0]             \n",
            "__________________________________________________________________________________________________\n",
            "batch_normalization_691 (BatchN (None, None, None, 1 384         conv2d_691[0][0]                 \n",
            "__________________________________________________________________________________________________\n",
            "batch_normalization_696 (BatchN (None, None, None, 1 384         conv2d_696[0][0]                 \n",
            "__________________________________________________________________________________________________\n",
            "activation_691 (Activation)     (None, None, None, 1 0           batch_normalization_691[0][0]    \n",
            "__________________________________________________________________________________________________\n",
            "activation_696 (Activation)     (None, None, None, 1 0           batch_normalization_696[0][0]    \n",
            "__________________________________________________________________________________________________\n",
            "average_pooling2d_67 (AveragePo (None, None, None, 7 0           mixed3[0][0]                     \n",
            "__________________________________________________________________________________________________\n",
            "conv2d_689 (Conv2D)             (None, None, None, 1 147456      mixed3[0][0]                     \n",
            "__________________________________________________________________________________________________\n",
            "conv2d_692 (Conv2D)             (None, None, None, 1 172032      activation_691[0][0]             \n",
            "__________________________________________________________________________________________________\n",
            "conv2d_697 (Conv2D)             (None, None, None, 1 172032      activation_696[0][0]             \n",
            "__________________________________________________________________________________________________\n",
            "conv2d_698 (Conv2D)             (None, None, None, 1 147456      average_pooling2d_67[0][0]       \n",
            "__________________________________________________________________________________________________\n",
            "batch_normalization_689 (BatchN (None, None, None, 1 576         conv2d_689[0][0]                 \n",
            "__________________________________________________________________________________________________\n",
            "batch_normalization_692 (BatchN (None, None, None, 1 576         conv2d_692[0][0]                 \n",
            "__________________________________________________________________________________________________\n",
            "batch_normalization_697 (BatchN (None, None, None, 1 576         conv2d_697[0][0]                 \n",
            "__________________________________________________________________________________________________\n",
            "batch_normalization_698 (BatchN (None, None, None, 1 576         conv2d_698[0][0]                 \n",
            "__________________________________________________________________________________________________\n",
            "activation_689 (Activation)     (None, None, None, 1 0           batch_normalization_689[0][0]    \n",
            "__________________________________________________________________________________________________\n",
            "activation_692 (Activation)     (None, None, None, 1 0           batch_normalization_692[0][0]    \n",
            "__________________________________________________________________________________________________\n",
            "activation_697 (Activation)     (None, None, None, 1 0           batch_normalization_697[0][0]    \n",
            "__________________________________________________________________________________________________\n",
            "activation_698 (Activation)     (None, None, None, 1 0           batch_normalization_698[0][0]    \n",
            "__________________________________________________________________________________________________\n",
            "mixed4 (Concatenate)            (None, None, None, 7 0           activation_689[0][0]             \n",
            "                                                                 activation_692[0][0]             \n",
            "                                                                 activation_697[0][0]             \n",
            "                                                                 activation_698[0][0]             \n",
            "__________________________________________________________________________________________________\n",
            "conv2d_703 (Conv2D)             (None, None, None, 1 122880      mixed4[0][0]                     \n",
            "__________________________________________________________________________________________________\n",
            "batch_normalization_703 (BatchN (None, None, None, 1 480         conv2d_703[0][0]                 \n",
            "__________________________________________________________________________________________________\n",
            "activation_703 (Activation)     (None, None, None, 1 0           batch_normalization_703[0][0]    \n",
            "__________________________________________________________________________________________________\n",
            "conv2d_704 (Conv2D)             (None, None, None, 1 179200      activation_703[0][0]             \n",
            "__________________________________________________________________________________________________\n",
            "batch_normalization_704 (BatchN (None, None, None, 1 480         conv2d_704[0][0]                 \n",
            "__________________________________________________________________________________________________\n",
            "activation_704 (Activation)     (None, None, None, 1 0           batch_normalization_704[0][0]    \n",
            "__________________________________________________________________________________________________\n",
            "conv2d_700 (Conv2D)             (None, None, None, 1 122880      mixed4[0][0]                     \n",
            "__________________________________________________________________________________________________\n",
            "conv2d_705 (Conv2D)             (None, None, None, 1 179200      activation_704[0][0]             \n",
            "__________________________________________________________________________________________________\n",
            "batch_normalization_700 (BatchN (None, None, None, 1 480         conv2d_700[0][0]                 \n",
            "__________________________________________________________________________________________________\n",
            "batch_normalization_705 (BatchN (None, None, None, 1 480         conv2d_705[0][0]                 \n",
            "__________________________________________________________________________________________________\n",
            "activation_700 (Activation)     (None, None, None, 1 0           batch_normalization_700[0][0]    \n",
            "__________________________________________________________________________________________________\n",
            "activation_705 (Activation)     (None, None, None, 1 0           batch_normalization_705[0][0]    \n",
            "__________________________________________________________________________________________________\n",
            "conv2d_701 (Conv2D)             (None, None, None, 1 179200      activation_700[0][0]             \n",
            "__________________________________________________________________________________________________\n",
            "conv2d_706 (Conv2D)             (None, None, None, 1 179200      activation_705[0][0]             \n",
            "__________________________________________________________________________________________________\n",
            "batch_normalization_701 (BatchN (None, None, None, 1 480         conv2d_701[0][0]                 \n",
            "__________________________________________________________________________________________________\n",
            "batch_normalization_706 (BatchN (None, None, None, 1 480         conv2d_706[0][0]                 \n",
            "__________________________________________________________________________________________________\n",
            "activation_701 (Activation)     (None, None, None, 1 0           batch_normalization_701[0][0]    \n",
            "__________________________________________________________________________________________________\n",
            "activation_706 (Activation)     (None, None, None, 1 0           batch_normalization_706[0][0]    \n",
            "__________________________________________________________________________________________________\n",
            "average_pooling2d_68 (AveragePo (None, None, None, 7 0           mixed4[0][0]                     \n",
            "__________________________________________________________________________________________________\n",
            "conv2d_699 (Conv2D)             (None, None, None, 1 147456      mixed4[0][0]                     \n",
            "__________________________________________________________________________________________________\n",
            "conv2d_702 (Conv2D)             (None, None, None, 1 215040      activation_701[0][0]             \n",
            "__________________________________________________________________________________________________\n",
            "conv2d_707 (Conv2D)             (None, None, None, 1 215040      activation_706[0][0]             \n",
            "__________________________________________________________________________________________________\n",
            "conv2d_708 (Conv2D)             (None, None, None, 1 147456      average_pooling2d_68[0][0]       \n",
            "__________________________________________________________________________________________________\n",
            "batch_normalization_699 (BatchN (None, None, None, 1 576         conv2d_699[0][0]                 \n",
            "__________________________________________________________________________________________________\n",
            "batch_normalization_702 (BatchN (None, None, None, 1 576         conv2d_702[0][0]                 \n",
            "__________________________________________________________________________________________________\n",
            "batch_normalization_707 (BatchN (None, None, None, 1 576         conv2d_707[0][0]                 \n",
            "__________________________________________________________________________________________________\n",
            "batch_normalization_708 (BatchN (None, None, None, 1 576         conv2d_708[0][0]                 \n",
            "__________________________________________________________________________________________________\n",
            "activation_699 (Activation)     (None, None, None, 1 0           batch_normalization_699[0][0]    \n",
            "__________________________________________________________________________________________________\n",
            "activation_702 (Activation)     (None, None, None, 1 0           batch_normalization_702[0][0]    \n",
            "__________________________________________________________________________________________________\n",
            "activation_707 (Activation)     (None, None, None, 1 0           batch_normalization_707[0][0]    \n",
            "__________________________________________________________________________________________________\n",
            "activation_708 (Activation)     (None, None, None, 1 0           batch_normalization_708[0][0]    \n",
            "__________________________________________________________________________________________________\n",
            "mixed5 (Concatenate)            (None, None, None, 7 0           activation_699[0][0]             \n",
            "                                                                 activation_702[0][0]             \n",
            "                                                                 activation_707[0][0]             \n",
            "                                                                 activation_708[0][0]             \n",
            "__________________________________________________________________________________________________\n",
            "conv2d_713 (Conv2D)             (None, None, None, 1 122880      mixed5[0][0]                     \n",
            "__________________________________________________________________________________________________\n",
            "batch_normalization_713 (BatchN (None, None, None, 1 480         conv2d_713[0][0]                 \n",
            "__________________________________________________________________________________________________\n",
            "activation_713 (Activation)     (None, None, None, 1 0           batch_normalization_713[0][0]    \n",
            "__________________________________________________________________________________________________\n",
            "conv2d_714 (Conv2D)             (None, None, None, 1 179200      activation_713[0][0]             \n",
            "__________________________________________________________________________________________________\n",
            "batch_normalization_714 (BatchN (None, None, None, 1 480         conv2d_714[0][0]                 \n",
            "__________________________________________________________________________________________________\n",
            "activation_714 (Activation)     (None, None, None, 1 0           batch_normalization_714[0][0]    \n",
            "__________________________________________________________________________________________________\n",
            "conv2d_710 (Conv2D)             (None, None, None, 1 122880      mixed5[0][0]                     \n",
            "__________________________________________________________________________________________________\n",
            "conv2d_715 (Conv2D)             (None, None, None, 1 179200      activation_714[0][0]             \n",
            "__________________________________________________________________________________________________\n",
            "batch_normalization_710 (BatchN (None, None, None, 1 480         conv2d_710[0][0]                 \n",
            "__________________________________________________________________________________________________\n",
            "batch_normalization_715 (BatchN (None, None, None, 1 480         conv2d_715[0][0]                 \n",
            "__________________________________________________________________________________________________\n",
            "activation_710 (Activation)     (None, None, None, 1 0           batch_normalization_710[0][0]    \n",
            "__________________________________________________________________________________________________\n",
            "activation_715 (Activation)     (None, None, None, 1 0           batch_normalization_715[0][0]    \n",
            "__________________________________________________________________________________________________\n",
            "conv2d_711 (Conv2D)             (None, None, None, 1 179200      activation_710[0][0]             \n",
            "__________________________________________________________________________________________________\n",
            "conv2d_716 (Conv2D)             (None, None, None, 1 179200      activation_715[0][0]             \n",
            "__________________________________________________________________________________________________\n",
            "batch_normalization_711 (BatchN (None, None, None, 1 480         conv2d_711[0][0]                 \n",
            "__________________________________________________________________________________________________\n",
            "batch_normalization_716 (BatchN (None, None, None, 1 480         conv2d_716[0][0]                 \n",
            "__________________________________________________________________________________________________\n",
            "activation_711 (Activation)     (None, None, None, 1 0           batch_normalization_711[0][0]    \n",
            "__________________________________________________________________________________________________\n",
            "activation_716 (Activation)     (None, None, None, 1 0           batch_normalization_716[0][0]    \n",
            "__________________________________________________________________________________________________\n",
            "average_pooling2d_69 (AveragePo (None, None, None, 7 0           mixed5[0][0]                     \n",
            "__________________________________________________________________________________________________\n",
            "conv2d_709 (Conv2D)             (None, None, None, 1 147456      mixed5[0][0]                     \n",
            "__________________________________________________________________________________________________\n",
            "conv2d_712 (Conv2D)             (None, None, None, 1 215040      activation_711[0][0]             \n",
            "__________________________________________________________________________________________________\n",
            "conv2d_717 (Conv2D)             (None, None, None, 1 215040      activation_716[0][0]             \n",
            "__________________________________________________________________________________________________\n",
            "conv2d_718 (Conv2D)             (None, None, None, 1 147456      average_pooling2d_69[0][0]       \n",
            "__________________________________________________________________________________________________\n",
            "batch_normalization_709 (BatchN (None, None, None, 1 576         conv2d_709[0][0]                 \n",
            "__________________________________________________________________________________________________\n",
            "batch_normalization_712 (BatchN (None, None, None, 1 576         conv2d_712[0][0]                 \n",
            "__________________________________________________________________________________________________\n",
            "batch_normalization_717 (BatchN (None, None, None, 1 576         conv2d_717[0][0]                 \n",
            "__________________________________________________________________________________________________\n",
            "batch_normalization_718 (BatchN (None, None, None, 1 576         conv2d_718[0][0]                 \n",
            "__________________________________________________________________________________________________\n",
            "activation_709 (Activation)     (None, None, None, 1 0           batch_normalization_709[0][0]    \n",
            "__________________________________________________________________________________________________\n",
            "activation_712 (Activation)     (None, None, None, 1 0           batch_normalization_712[0][0]    \n",
            "__________________________________________________________________________________________________\n",
            "activation_717 (Activation)     (None, None, None, 1 0           batch_normalization_717[0][0]    \n",
            "__________________________________________________________________________________________________\n",
            "activation_718 (Activation)     (None, None, None, 1 0           batch_normalization_718[0][0]    \n",
            "__________________________________________________________________________________________________\n",
            "mixed6 (Concatenate)            (None, None, None, 7 0           activation_709[0][0]             \n",
            "                                                                 activation_712[0][0]             \n",
            "                                                                 activation_717[0][0]             \n",
            "                                                                 activation_718[0][0]             \n",
            "__________________________________________________________________________________________________\n",
            "conv2d_723 (Conv2D)             (None, None, None, 1 147456      mixed6[0][0]                     \n",
            "__________________________________________________________________________________________________\n",
            "batch_normalization_723 (BatchN (None, None, None, 1 576         conv2d_723[0][0]                 \n",
            "__________________________________________________________________________________________________\n",
            "activation_723 (Activation)     (None, None, None, 1 0           batch_normalization_723[0][0]    \n",
            "__________________________________________________________________________________________________\n",
            "conv2d_724 (Conv2D)             (None, None, None, 1 258048      activation_723[0][0]             \n",
            "__________________________________________________________________________________________________\n",
            "batch_normalization_724 (BatchN (None, None, None, 1 576         conv2d_724[0][0]                 \n",
            "__________________________________________________________________________________________________\n",
            "activation_724 (Activation)     (None, None, None, 1 0           batch_normalization_724[0][0]    \n",
            "__________________________________________________________________________________________________\n",
            "conv2d_720 (Conv2D)             (None, None, None, 1 147456      mixed6[0][0]                     \n",
            "__________________________________________________________________________________________________\n",
            "conv2d_725 (Conv2D)             (None, None, None, 1 258048      activation_724[0][0]             \n",
            "__________________________________________________________________________________________________\n",
            "batch_normalization_720 (BatchN (None, None, None, 1 576         conv2d_720[0][0]                 \n",
            "__________________________________________________________________________________________________\n",
            "batch_normalization_725 (BatchN (None, None, None, 1 576         conv2d_725[0][0]                 \n",
            "__________________________________________________________________________________________________\n",
            "activation_720 (Activation)     (None, None, None, 1 0           batch_normalization_720[0][0]    \n",
            "__________________________________________________________________________________________________\n",
            "activation_725 (Activation)     (None, None, None, 1 0           batch_normalization_725[0][0]    \n",
            "__________________________________________________________________________________________________\n",
            "conv2d_721 (Conv2D)             (None, None, None, 1 258048      activation_720[0][0]             \n",
            "__________________________________________________________________________________________________\n",
            "conv2d_726 (Conv2D)             (None, None, None, 1 258048      activation_725[0][0]             \n",
            "__________________________________________________________________________________________________\n",
            "batch_normalization_721 (BatchN (None, None, None, 1 576         conv2d_721[0][0]                 \n",
            "__________________________________________________________________________________________________\n",
            "batch_normalization_726 (BatchN (None, None, None, 1 576         conv2d_726[0][0]                 \n",
            "__________________________________________________________________________________________________\n",
            "activation_721 (Activation)     (None, None, None, 1 0           batch_normalization_721[0][0]    \n",
            "__________________________________________________________________________________________________\n",
            "activation_726 (Activation)     (None, None, None, 1 0           batch_normalization_726[0][0]    \n",
            "__________________________________________________________________________________________________\n",
            "average_pooling2d_70 (AveragePo (None, None, None, 7 0           mixed6[0][0]                     \n",
            "__________________________________________________________________________________________________\n",
            "conv2d_719 (Conv2D)             (None, None, None, 1 147456      mixed6[0][0]                     \n",
            "__________________________________________________________________________________________________\n",
            "conv2d_722 (Conv2D)             (None, None, None, 1 258048      activation_721[0][0]             \n",
            "__________________________________________________________________________________________________\n",
            "conv2d_727 (Conv2D)             (None, None, None, 1 258048      activation_726[0][0]             \n",
            "__________________________________________________________________________________________________\n",
            "conv2d_728 (Conv2D)             (None, None, None, 1 147456      average_pooling2d_70[0][0]       \n",
            "__________________________________________________________________________________________________\n",
            "batch_normalization_719 (BatchN (None, None, None, 1 576         conv2d_719[0][0]                 \n",
            "__________________________________________________________________________________________________\n",
            "batch_normalization_722 (BatchN (None, None, None, 1 576         conv2d_722[0][0]                 \n",
            "__________________________________________________________________________________________________\n",
            "batch_normalization_727 (BatchN (None, None, None, 1 576         conv2d_727[0][0]                 \n",
            "__________________________________________________________________________________________________\n",
            "batch_normalization_728 (BatchN (None, None, None, 1 576         conv2d_728[0][0]                 \n",
            "__________________________________________________________________________________________________\n",
            "activation_719 (Activation)     (None, None, None, 1 0           batch_normalization_719[0][0]    \n",
            "__________________________________________________________________________________________________\n",
            "activation_722 (Activation)     (None, None, None, 1 0           batch_normalization_722[0][0]    \n",
            "__________________________________________________________________________________________________\n",
            "activation_727 (Activation)     (None, None, None, 1 0           batch_normalization_727[0][0]    \n",
            "__________________________________________________________________________________________________\n",
            "activation_728 (Activation)     (None, None, None, 1 0           batch_normalization_728[0][0]    \n",
            "__________________________________________________________________________________________________\n",
            "mixed7 (Concatenate)            (None, None, None, 7 0           activation_719[0][0]             \n",
            "                                                                 activation_722[0][0]             \n",
            "                                                                 activation_727[0][0]             \n",
            "                                                                 activation_728[0][0]             \n",
            "__________________________________________________________________________________________________\n",
            "conv2d_731 (Conv2D)             (None, None, None, 1 147456      mixed7[0][0]                     \n",
            "__________________________________________________________________________________________________\n",
            "batch_normalization_731 (BatchN (None, None, None, 1 576         conv2d_731[0][0]                 \n",
            "__________________________________________________________________________________________________\n",
            "activation_731 (Activation)     (None, None, None, 1 0           batch_normalization_731[0][0]    \n",
            "__________________________________________________________________________________________________\n",
            "conv2d_732 (Conv2D)             (None, None, None, 1 258048      activation_731[0][0]             \n",
            "__________________________________________________________________________________________________\n",
            "batch_normalization_732 (BatchN (None, None, None, 1 576         conv2d_732[0][0]                 \n",
            "__________________________________________________________________________________________________\n",
            "activation_732 (Activation)     (None, None, None, 1 0           batch_normalization_732[0][0]    \n",
            "__________________________________________________________________________________________________\n",
            "conv2d_729 (Conv2D)             (None, None, None, 1 147456      mixed7[0][0]                     \n",
            "__________________________________________________________________________________________________\n",
            "conv2d_733 (Conv2D)             (None, None, None, 1 258048      activation_732[0][0]             \n",
            "__________________________________________________________________________________________________\n",
            "batch_normalization_729 (BatchN (None, None, None, 1 576         conv2d_729[0][0]                 \n",
            "__________________________________________________________________________________________________\n",
            "batch_normalization_733 (BatchN (None, None, None, 1 576         conv2d_733[0][0]                 \n",
            "__________________________________________________________________________________________________\n",
            "activation_729 (Activation)     (None, None, None, 1 0           batch_normalization_729[0][0]    \n",
            "__________________________________________________________________________________________________\n",
            "activation_733 (Activation)     (None, None, None, 1 0           batch_normalization_733[0][0]    \n",
            "__________________________________________________________________________________________________\n",
            "conv2d_730 (Conv2D)             (None, None, None, 3 552960      activation_729[0][0]             \n",
            "__________________________________________________________________________________________________\n",
            "conv2d_734 (Conv2D)             (None, None, None, 1 331776      activation_733[0][0]             \n",
            "__________________________________________________________________________________________________\n",
            "batch_normalization_730 (BatchN (None, None, None, 3 960         conv2d_730[0][0]                 \n",
            "__________________________________________________________________________________________________\n",
            "batch_normalization_734 (BatchN (None, None, None, 1 576         conv2d_734[0][0]                 \n",
            "__________________________________________________________________________________________________\n",
            "activation_730 (Activation)     (None, None, None, 3 0           batch_normalization_730[0][0]    \n",
            "__________________________________________________________________________________________________\n",
            "activation_734 (Activation)     (None, None, None, 1 0           batch_normalization_734[0][0]    \n",
            "__________________________________________________________________________________________________\n",
            "max_pooling2d_32 (MaxPooling2D) (None, None, None, 7 0           mixed7[0][0]                     \n",
            "__________________________________________________________________________________________________\n",
            "mixed8 (Concatenate)            (None, None, None, 1 0           activation_730[0][0]             \n",
            "                                                                 activation_734[0][0]             \n",
            "                                                                 max_pooling2d_32[0][0]           \n",
            "__________________________________________________________________________________________________\n",
            "conv2d_739 (Conv2D)             (None, None, None, 4 573440      mixed8[0][0]                     \n",
            "__________________________________________________________________________________________________\n",
            "batch_normalization_739 (BatchN (None, None, None, 4 1344        conv2d_739[0][0]                 \n",
            "__________________________________________________________________________________________________\n",
            "activation_739 (Activation)     (None, None, None, 4 0           batch_normalization_739[0][0]    \n",
            "__________________________________________________________________________________________________\n",
            "conv2d_736 (Conv2D)             (None, None, None, 3 491520      mixed8[0][0]                     \n",
            "__________________________________________________________________________________________________\n",
            "conv2d_740 (Conv2D)             (None, None, None, 3 1548288     activation_739[0][0]             \n",
            "__________________________________________________________________________________________________\n",
            "batch_normalization_736 (BatchN (None, None, None, 3 1152        conv2d_736[0][0]                 \n",
            "__________________________________________________________________________________________________\n",
            "batch_normalization_740 (BatchN (None, None, None, 3 1152        conv2d_740[0][0]                 \n",
            "__________________________________________________________________________________________________\n",
            "activation_736 (Activation)     (None, None, None, 3 0           batch_normalization_736[0][0]    \n",
            "__________________________________________________________________________________________________\n",
            "activation_740 (Activation)     (None, None, None, 3 0           batch_normalization_740[0][0]    \n",
            "__________________________________________________________________________________________________\n",
            "conv2d_737 (Conv2D)             (None, None, None, 3 442368      activation_736[0][0]             \n",
            "__________________________________________________________________________________________________\n",
            "conv2d_738 (Conv2D)             (None, None, None, 3 442368      activation_736[0][0]             \n",
            "__________________________________________________________________________________________________\n",
            "conv2d_741 (Conv2D)             (None, None, None, 3 442368      activation_740[0][0]             \n",
            "__________________________________________________________________________________________________\n",
            "conv2d_742 (Conv2D)             (None, None, None, 3 442368      activation_740[0][0]             \n",
            "__________________________________________________________________________________________________\n",
            "average_pooling2d_71 (AveragePo (None, None, None, 1 0           mixed8[0][0]                     \n",
            "__________________________________________________________________________________________________\n",
            "conv2d_735 (Conv2D)             (None, None, None, 3 409600      mixed8[0][0]                     \n",
            "__________________________________________________________________________________________________\n",
            "batch_normalization_737 (BatchN (None, None, None, 3 1152        conv2d_737[0][0]                 \n",
            "__________________________________________________________________________________________________\n",
            "batch_normalization_738 (BatchN (None, None, None, 3 1152        conv2d_738[0][0]                 \n",
            "__________________________________________________________________________________________________\n",
            "batch_normalization_741 (BatchN (None, None, None, 3 1152        conv2d_741[0][0]                 \n",
            "__________________________________________________________________________________________________\n",
            "batch_normalization_742 (BatchN (None, None, None, 3 1152        conv2d_742[0][0]                 \n",
            "__________________________________________________________________________________________________\n",
            "conv2d_743 (Conv2D)             (None, None, None, 1 245760      average_pooling2d_71[0][0]       \n",
            "__________________________________________________________________________________________________\n",
            "batch_normalization_735 (BatchN (None, None, None, 3 960         conv2d_735[0][0]                 \n",
            "__________________________________________________________________________________________________\n",
            "activation_737 (Activation)     (None, None, None, 3 0           batch_normalization_737[0][0]    \n",
            "__________________________________________________________________________________________________\n",
            "activation_738 (Activation)     (None, None, None, 3 0           batch_normalization_738[0][0]    \n",
            "__________________________________________________________________________________________________\n",
            "activation_741 (Activation)     (None, None, None, 3 0           batch_normalization_741[0][0]    \n",
            "__________________________________________________________________________________________________\n",
            "activation_742 (Activation)     (None, None, None, 3 0           batch_normalization_742[0][0]    \n",
            "__________________________________________________________________________________________________\n",
            "batch_normalization_743 (BatchN (None, None, None, 1 576         conv2d_743[0][0]                 \n",
            "__________________________________________________________________________________________________\n",
            "activation_735 (Activation)     (None, None, None, 3 0           batch_normalization_735[0][0]    \n",
            "__________________________________________________________________________________________________\n",
            "mixed9_0 (Concatenate)          (None, None, None, 7 0           activation_737[0][0]             \n",
            "                                                                 activation_738[0][0]             \n",
            "__________________________________________________________________________________________________\n",
            "concatenate_15 (Concatenate)    (None, None, None, 7 0           activation_741[0][0]             \n",
            "                                                                 activation_742[0][0]             \n",
            "__________________________________________________________________________________________________\n",
            "activation_743 (Activation)     (None, None, None, 1 0           batch_normalization_743[0][0]    \n",
            "__________________________________________________________________________________________________\n",
            "mixed9 (Concatenate)            (None, None, None, 2 0           activation_735[0][0]             \n",
            "                                                                 mixed9_0[0][0]                   \n",
            "                                                                 concatenate_15[0][0]             \n",
            "                                                                 activation_743[0][0]             \n",
            "__________________________________________________________________________________________________\n",
            "conv2d_748 (Conv2D)             (None, None, None, 4 917504      mixed9[0][0]                     \n",
            "__________________________________________________________________________________________________\n",
            "batch_normalization_748 (BatchN (None, None, None, 4 1344        conv2d_748[0][0]                 \n",
            "__________________________________________________________________________________________________\n",
            "activation_748 (Activation)     (None, None, None, 4 0           batch_normalization_748[0][0]    \n",
            "__________________________________________________________________________________________________\n",
            "conv2d_745 (Conv2D)             (None, None, None, 3 786432      mixed9[0][0]                     \n",
            "__________________________________________________________________________________________________\n",
            "conv2d_749 (Conv2D)             (None, None, None, 3 1548288     activation_748[0][0]             \n",
            "__________________________________________________________________________________________________\n",
            "batch_normalization_745 (BatchN (None, None, None, 3 1152        conv2d_745[0][0]                 \n",
            "__________________________________________________________________________________________________\n",
            "batch_normalization_749 (BatchN (None, None, None, 3 1152        conv2d_749[0][0]                 \n",
            "__________________________________________________________________________________________________\n",
            "activation_745 (Activation)     (None, None, None, 3 0           batch_normalization_745[0][0]    \n",
            "__________________________________________________________________________________________________\n",
            "activation_749 (Activation)     (None, None, None, 3 0           batch_normalization_749[0][0]    \n",
            "__________________________________________________________________________________________________\n",
            "conv2d_746 (Conv2D)             (None, None, None, 3 442368      activation_745[0][0]             \n",
            "__________________________________________________________________________________________________\n",
            "conv2d_747 (Conv2D)             (None, None, None, 3 442368      activation_745[0][0]             \n",
            "__________________________________________________________________________________________________\n",
            "conv2d_750 (Conv2D)             (None, None, None, 3 442368      activation_749[0][0]             \n",
            "__________________________________________________________________________________________________\n",
            "conv2d_751 (Conv2D)             (None, None, None, 3 442368      activation_749[0][0]             \n",
            "__________________________________________________________________________________________________\n",
            "average_pooling2d_72 (AveragePo (None, None, None, 2 0           mixed9[0][0]                     \n",
            "__________________________________________________________________________________________________\n",
            "conv2d_744 (Conv2D)             (None, None, None, 3 655360      mixed9[0][0]                     \n",
            "__________________________________________________________________________________________________\n",
            "batch_normalization_746 (BatchN (None, None, None, 3 1152        conv2d_746[0][0]                 \n",
            "__________________________________________________________________________________________________\n",
            "batch_normalization_747 (BatchN (None, None, None, 3 1152        conv2d_747[0][0]                 \n",
            "__________________________________________________________________________________________________\n",
            "batch_normalization_750 (BatchN (None, None, None, 3 1152        conv2d_750[0][0]                 \n",
            "__________________________________________________________________________________________________\n",
            "batch_normalization_751 (BatchN (None, None, None, 3 1152        conv2d_751[0][0]                 \n",
            "__________________________________________________________________________________________________\n",
            "conv2d_752 (Conv2D)             (None, None, None, 1 393216      average_pooling2d_72[0][0]       \n",
            "__________________________________________________________________________________________________\n",
            "batch_normalization_744 (BatchN (None, None, None, 3 960         conv2d_744[0][0]                 \n",
            "__________________________________________________________________________________________________\n",
            "activation_746 (Activation)     (None, None, None, 3 0           batch_normalization_746[0][0]    \n",
            "__________________________________________________________________________________________________\n",
            "activation_747 (Activation)     (None, None, None, 3 0           batch_normalization_747[0][0]    \n",
            "__________________________________________________________________________________________________\n",
            "activation_750 (Activation)     (None, None, None, 3 0           batch_normalization_750[0][0]    \n",
            "__________________________________________________________________________________________________\n",
            "activation_751 (Activation)     (None, None, None, 3 0           batch_normalization_751[0][0]    \n",
            "__________________________________________________________________________________________________\n",
            "batch_normalization_752 (BatchN (None, None, None, 1 576         conv2d_752[0][0]                 \n",
            "__________________________________________________________________________________________________\n",
            "activation_744 (Activation)     (None, None, None, 3 0           batch_normalization_744[0][0]    \n",
            "__________________________________________________________________________________________________\n",
            "mixed9_1 (Concatenate)          (None, None, None, 7 0           activation_746[0][0]             \n",
            "                                                                 activation_747[0][0]             \n",
            "__________________________________________________________________________________________________\n",
            "concatenate_16 (Concatenate)    (None, None, None, 7 0           activation_750[0][0]             \n",
            "                                                                 activation_751[0][0]             \n",
            "__________________________________________________________________________________________________\n",
            "activation_752 (Activation)     (None, None, None, 1 0           batch_normalization_752[0][0]    \n",
            "__________________________________________________________________________________________________\n",
            "mixed10 (Concatenate)           (None, None, None, 2 0           activation_744[0][0]             \n",
            "                                                                 mixed9_1[0][0]                   \n",
            "                                                                 concatenate_16[0][0]             \n",
            "                                                                 activation_752[0][0]             \n",
            "__________________________________________________________________________________________________\n",
            "global_average_pooling2d_8 (Glo (None, 2048)         0           mixed10[0][0]                    \n",
            "==================================================================================================\n",
            "Total params: 21,802,784\n",
            "Trainable params: 0\n",
            "Non-trainable params: 21,802,784\n",
            "__________________________________________________________________________________________________\n"
          ],
          "name": "stdout"
        }
      ]
    },
    {
      "metadata": {
        "id": "pMKKWUb_pRSy",
        "colab_type": "code",
        "colab": {}
      },
      "cell_type": "code",
      "source": [
        ""
      ],
      "execution_count": 0,
      "outputs": []
    },
    {
      "metadata": {
        "id": "5maCnVBCiSgI",
        "colab_type": "code",
        "outputId": "a70d5be3-11b7-4572-ec97-9b4126ab989f",
        "colab": {
          "base_uri": "https://localhost:8080/",
          "height": 326
        }
      },
      "cell_type": "code",
      "source": [
        "model4.summary()\n"
      ],
      "execution_count": 64,
      "outputs": [
        {
          "output_type": "stream",
          "text": [
            "_________________________________________________________________\n",
            "Layer (type)                 Output Shape              Param #   \n",
            "=================================================================\n",
            "inception_v3 (Model)         (None, 2048)              21802784  \n",
            "_________________________________________________________________\n",
            "dense_11 (Dense)             (None, 512)               1049088   \n",
            "_________________________________________________________________\n",
            "dropout_6 (Dropout)          (None, 512)               0         \n",
            "_________________________________________________________________\n",
            "dense_12 (Dense)             (None, 256)               131328    \n",
            "_________________________________________________________________\n",
            "dropout_7 (Dropout)          (None, 256)               0         \n",
            "_________________________________________________________________\n",
            "dense_13 (Dense)             (None, 10)                2570      \n",
            "=================================================================\n",
            "Total params: 22,985,770\n",
            "Trainable params: 1,182,986\n",
            "Non-trainable params: 21,802,784\n",
            "_________________________________________________________________\n"
          ],
          "name": "stdout"
        }
      ]
    },
    {
      "metadata": {
        "id": "ceejTN-RpTIy",
        "colab_type": "code",
        "colab": {}
      },
      "cell_type": "code",
      "source": [
        "# from keras import optimizers\n",
        "# adam = optimizers.Adam(lr=0.0001, beta_1=0.9, beta_2=0.999, epsilon=1e-08, decay=0.00001)\n",
        "# use adam to avoid overfitting\n",
        "\n",
        "model4.compile(loss=\"categorical_crossentropy\",\n",
        "              optimizer='adam',\n",
        "              metrics=[\"accuracy\"])"
      ],
      "execution_count": 0,
      "outputs": []
    },
    {
      "metadata": {
        "id": "18F_V9IDpJes",
        "colab_type": "code",
        "colab": {
          "base_uri": "https://localhost:8080/",
          "height": 180
        },
        "outputId": "97c1b2f1-c30e-43eb-d1f3-5f4aaf6d819d"
      },
      "cell_type": "code",
      "source": [
        "model4_history = model4.fit_generator(train_gen,\n",
        "                                    steps_per_epoch=5,\n",
        "                                    epochs=5,\n",
        "                                    validation_data=val_gen,\n",
        "                                    validation_steps=val_count // BATCH_SIZE\n",
        "                                   )"
      ],
      "execution_count": 67,
      "outputs": [
        {
          "output_type": "stream",
          "text": [
            "Epoch 1/5\n",
            "5/5 [==============================] - 50s 10s/step - loss: 2.6713 - acc: 0.0917 - val_loss: 2.0193 - val_acc: 0.3387\n",
            "Epoch 2/5\n",
            "5/5 [==============================] - 10s 2s/step - loss: 2.6972 - acc: 0.1750 - val_loss: 1.8303 - val_acc: 0.5524\n",
            "Epoch 3/5\n",
            "5/5 [==============================] - 10s 2s/step - loss: 2.4647 - acc: 0.2000 - val_loss: 1.7841 - val_acc: 0.6855\n",
            "Epoch 4/5\n",
            "5/5 [==============================] - 14s 3s/step - loss: 2.1705 - acc: 0.2167 - val_loss: 1.7280 - val_acc: 0.5806\n",
            "Epoch 5/5\n",
            "5/5 [==============================] - 11s 2s/step - loss: 2.1459 - acc: 0.2333 - val_loss: 1.5238 - val_acc: 0.6653\n"
          ],
          "name": "stdout"
        }
      ]
    },
    {
      "metadata": {
        "id": "6Z-hfPrfi2sJ",
        "colab_type": "code",
        "outputId": "99559211-47ab-4066-b612-3cdfe7fb63dc",
        "colab": {
          "base_uri": "https://localhost:8080/",
          "height": 707
        }
      },
      "cell_type": "code",
      "source": [
        "acc = model_FC_history.history['acc']\n",
        "val_acc = model_FC_history.history['val_acc']\n",
        "loss = model_FC_history.history['loss']\n",
        "val_loss = model_FC_history.history['val_loss']\n",
        "epochs = range(1, len(acc) + 1)\n",
        "\n",
        "import matplotlib.pyplot as plt\n",
        "\n",
        "plt.title('Training and validation accuracy')\n",
        "plt.plot(epochs, acc, 'red', label='Training acc')\n",
        "plt.plot(epochs, val_acc, 'blue', label='Validation acc')\n",
        "plt.legend()\n",
        "\n",
        "plt.figure()\n",
        "plt.title('Training and validation loss')\n",
        "plt.plot(epochs, loss, 'red', label='Training loss')\n",
        "plt.plot(epochs, val_loss, 'blue', label='Validation loss')\n",
        "\n",
        "plt.legend()\n",
        "\n",
        "plt.show()"
      ],
      "execution_count": 68,
      "outputs": [
        {
          "output_type": "display_data",
          "data": {
            "image/png": "[encoded data removed]",
            "text/plain": [
              "<matplotlib.figure.Figure at 0x7f9f2dba6908>"
            ]
          },
          "metadata": {
            "tags": []
          }
        },
        {
          "output_type": "display_data",
          "data": {
            "image/png": "[encoded data removed]",
            "text/plain": [
              "<matplotlib.figure.Figure at 0x7f9f2d8b6080>"
            ]
          },
          "metadata": {
            "tags": []
          }
        }
      ]
    }
  ]
}